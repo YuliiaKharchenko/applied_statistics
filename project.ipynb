{
 "cells": [
  {
   "cell_type": "markdown",
   "metadata": {},
   "source": [
    "***\n",
    "\n",
    "# Plant Growth Data Analysis with t-Test and ANOVA\n",
    "\n",
    "***\n",
    "\n",
    "![Plant Growth](https://upload.wikimedia.org/wikipedia/commons/thumb/e/e6/Echinochloa_crusgalli_habit3_-_Flickr_-_Macleay_Grass_Man.jpg/800px-Echinochloa_crusgalli_habit3_-_Flickr_-_Macleay_Grass_Man.jpg)"
   ]
  },
  {
   "cell_type": "markdown",
   "metadata": {},
   "source": [
    "## Description:\n",
    "\n",
    "This project involves performing a statistical analysis of plant growth data using Python. The dataset, [PlantGrowth](https://vincentarelbundock.github.io/Rdatasets/), provides information on the weight of plants grown under different conditions (a control group and two experimental groups). The main objectives of the project are:\n",
    "\n",
    "1. Describe the dataset and conduct a preliminary analysis.\n",
    "2. Explain the concept of a t-test, its assumptions, and its applications.\n",
    "3. Perform a t-test to determine if there are statistically significant differences in plant weight between the two experimental groups (trt1 and trt2).\n",
    "4. Explain the ANOVA method, its advantages, and its use cases.\n",
    "5. Perform a one-way Analysis of Variance (ANOVA) to test if there are differences in the mean plant weights across the three groups (ctrl, trt1, and trt2).\n",
    "6. Discuss why ANOVA is preferable to conducting multiple t-tests when comparing more than two groups.\n"
   ]
  },
  {
   "cell_type": "markdown",
   "metadata": {},
   "source": [
    "***\n",
    "\n",
    "# END"
   ]
  }
 ],
 "metadata": {
  "language_info": {
   "name": "python"
  }
 },
 "nbformat": 4,
 "nbformat_minor": 2
}
