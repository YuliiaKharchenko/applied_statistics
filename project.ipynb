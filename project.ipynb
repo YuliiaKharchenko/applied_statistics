{
 "cells": [
  {
   "cell_type": "markdown",
   "metadata": {},
   "source": [
    "***\n",
    "\n",
    "# Plant Growth Data Analysis with t-Test and ANOVA\n",
    "\n",
    "***\n",
    "\n",
    "![Plant Growth](https://upload.wikimedia.org/wikipedia/commons/thumb/e/e6/Echinochloa_crusgalli_habit3_-_Flickr_-_Macleay_Grass_Man.jpg/800px-Echinochloa_crusgalli_habit3_-_Flickr_-_Macleay_Grass_Man.jpg)"
   ]
  },
  {
   "cell_type": "markdown",
   "metadata": {},
   "source": [
    "## Description:\n",
    "\n",
    "This project involves performing a statistical analysis of plant growth data using Python. The dataset, [PlantGrowth](https://vincentarelbundock.github.io/Rdatasets/), provides information on the weight of plants grown under different conditions (a control group and two experimental groups). The main objectives of the project are:\n",
    "\n",
    "1. Describe the dataset and conduct a preliminary analysis.\n",
    "2. Explain the concept of a t-test, its assumptions.\n",
    "3. Perform a t-test to determine if there are statistically significant differences in plant weight between the two experimental groups (`trt1` and `trt2`).\n",
    "4. Explain the ANOVA method, its advantages, and its use cases.\n",
    "5. Perform a one-way Analysis of Variance (ANOVA) to test if there are differences in the mean plant weights across the three groups (`ctrl`, `trt1`, and `trt2`).\n",
    "6. Discuss why ANOVA is preferable to conducting multiple t-tests when comparing more than two groups.\n"
   ]
  },
  {
   "cell_type": "markdown",
   "metadata": {},
   "source": [
    "***\n",
    "\n",
    "## Description of the dataset \n",
    "\n",
    "[Results from an Experiment on Plant Growth(Description)](https://vincentarelbundock.github.io/Rdatasets/doc/datasets/PlantGrowth.html)\n",
    "\n",
    "> Results from an experiment to compare yields (as measured by dried weight of plants) obtained under a control and two different treatment conditions.\n",
    "> \n",
    "> **Usage**  \n",
    "> `PlantGrowth`  \n",
    "\n",
    "> **Format**  \n",
    "> A data frame of 30 cases on 2 variables:  \n",
    "> - `[, 1] weight` - Numeric  \n",
    "> - `[, 2] group` - Factor \n",
    ">  \n",
    "> The levels of the group are: `ctrl`, `trt1`, and `trt2`.  \n",
    "\n",
    "> **Source**  \n",
    "> Dobson, A. J. (1983). *An Introduction to Statistical Modelling*. London: Chapman and Hall.\n",
    "\n"
   ]
  },
  {
   "cell_type": "markdown",
   "metadata": {},
   "source": [
    "***\n",
    "\n",
    "## Import libraries "
   ]
  },
  {
   "cell_type": "markdown",
   "metadata": {},
   "source": [
    "- [Pandas](https://pandas.pydata.org/docs/)\n",
    "- [Matplotlib](https://matplotlib.org/stable/contents.html)\n",
    "- [Statistical functions (scipy.stats)](https://docs.scipy.org/doc/scipy/reference/stats.html)\n",
    "- [Seaborn: statistical data visualization](https://seaborn.pydata.org/#seaborn-statistical-data-visualization)"
   ]
  },
  {
   "cell_type": "code",
   "execution_count": 1,
   "metadata": {},
   "outputs": [],
   "source": [
    "import pandas as pd\n",
    "import matplotlib.pyplot as plt\n",
    "import seaborn as sns\n",
    "from scipy.stats import ttest_ind, levene, shapiro, f_oneway"
   ]
  },
  {
   "cell_type": "markdown",
   "metadata": {},
   "source": [
    "## Load data "
   ]
  },
  {
   "cell_type": "code",
   "execution_count": null,
   "metadata": {},
   "outputs": [
    {
     "data": {
      "text/html": [
       "<div>\n",
       "<style scoped>\n",
       "    .dataframe tbody tr th:only-of-type {\n",
       "        vertical-align: middle;\n",
       "    }\n",
       "\n",
       "    .dataframe tbody tr th {\n",
       "        vertical-align: top;\n",
       "    }\n",
       "\n",
       "    .dataframe thead th {\n",
       "        text-align: right;\n",
       "    }\n",
       "</style>\n",
       "<table border=\"1\" class=\"dataframe\">\n",
       "  <thead>\n",
       "    <tr style=\"text-align: right;\">\n",
       "      <th></th>\n",
       "      <th>rownames</th>\n",
       "      <th>weight</th>\n",
       "      <th>group</th>\n",
       "    </tr>\n",
       "  </thead>\n",
       "  <tbody>\n",
       "    <tr>\n",
       "      <th>0</th>\n",
       "      <td>1</td>\n",
       "      <td>4.17</td>\n",
       "      <td>ctrl</td>\n",
       "    </tr>\n",
       "    <tr>\n",
       "      <th>1</th>\n",
       "      <td>2</td>\n",
       "      <td>5.58</td>\n",
       "      <td>ctrl</td>\n",
       "    </tr>\n",
       "    <tr>\n",
       "      <th>2</th>\n",
       "      <td>3</td>\n",
       "      <td>5.18</td>\n",
       "      <td>ctrl</td>\n",
       "    </tr>\n",
       "    <tr>\n",
       "      <th>3</th>\n",
       "      <td>4</td>\n",
       "      <td>6.11</td>\n",
       "      <td>ctrl</td>\n",
       "    </tr>\n",
       "    <tr>\n",
       "      <th>4</th>\n",
       "      <td>5</td>\n",
       "      <td>4.50</td>\n",
       "      <td>ctrl</td>\n",
       "    </tr>\n",
       "    <tr>\n",
       "      <th>5</th>\n",
       "      <td>6</td>\n",
       "      <td>4.61</td>\n",
       "      <td>ctrl</td>\n",
       "    </tr>\n",
       "    <tr>\n",
       "      <th>6</th>\n",
       "      <td>7</td>\n",
       "      <td>5.17</td>\n",
       "      <td>ctrl</td>\n",
       "    </tr>\n",
       "    <tr>\n",
       "      <th>7</th>\n",
       "      <td>8</td>\n",
       "      <td>4.53</td>\n",
       "      <td>ctrl</td>\n",
       "    </tr>\n",
       "    <tr>\n",
       "      <th>8</th>\n",
       "      <td>9</td>\n",
       "      <td>5.33</td>\n",
       "      <td>ctrl</td>\n",
       "    </tr>\n",
       "    <tr>\n",
       "      <th>9</th>\n",
       "      <td>10</td>\n",
       "      <td>5.14</td>\n",
       "      <td>ctrl</td>\n",
       "    </tr>\n",
       "    <tr>\n",
       "      <th>10</th>\n",
       "      <td>11</td>\n",
       "      <td>4.81</td>\n",
       "      <td>trt1</td>\n",
       "    </tr>\n",
       "    <tr>\n",
       "      <th>11</th>\n",
       "      <td>12</td>\n",
       "      <td>4.17</td>\n",
       "      <td>trt1</td>\n",
       "    </tr>\n",
       "    <tr>\n",
       "      <th>12</th>\n",
       "      <td>13</td>\n",
       "      <td>4.41</td>\n",
       "      <td>trt1</td>\n",
       "    </tr>\n",
       "    <tr>\n",
       "      <th>13</th>\n",
       "      <td>14</td>\n",
       "      <td>3.59</td>\n",
       "      <td>trt1</td>\n",
       "    </tr>\n",
       "    <tr>\n",
       "      <th>14</th>\n",
       "      <td>15</td>\n",
       "      <td>5.87</td>\n",
       "      <td>trt1</td>\n",
       "    </tr>\n",
       "    <tr>\n",
       "      <th>15</th>\n",
       "      <td>16</td>\n",
       "      <td>3.83</td>\n",
       "      <td>trt1</td>\n",
       "    </tr>\n",
       "    <tr>\n",
       "      <th>16</th>\n",
       "      <td>17</td>\n",
       "      <td>6.03</td>\n",
       "      <td>trt1</td>\n",
       "    </tr>\n",
       "    <tr>\n",
       "      <th>17</th>\n",
       "      <td>18</td>\n",
       "      <td>4.89</td>\n",
       "      <td>trt1</td>\n",
       "    </tr>\n",
       "    <tr>\n",
       "      <th>18</th>\n",
       "      <td>19</td>\n",
       "      <td>4.32</td>\n",
       "      <td>trt1</td>\n",
       "    </tr>\n",
       "    <tr>\n",
       "      <th>19</th>\n",
       "      <td>20</td>\n",
       "      <td>4.69</td>\n",
       "      <td>trt1</td>\n",
       "    </tr>\n",
       "    <tr>\n",
       "      <th>20</th>\n",
       "      <td>21</td>\n",
       "      <td>6.31</td>\n",
       "      <td>trt2</td>\n",
       "    </tr>\n",
       "    <tr>\n",
       "      <th>21</th>\n",
       "      <td>22</td>\n",
       "      <td>5.12</td>\n",
       "      <td>trt2</td>\n",
       "    </tr>\n",
       "    <tr>\n",
       "      <th>22</th>\n",
       "      <td>23</td>\n",
       "      <td>5.54</td>\n",
       "      <td>trt2</td>\n",
       "    </tr>\n",
       "    <tr>\n",
       "      <th>23</th>\n",
       "      <td>24</td>\n",
       "      <td>5.50</td>\n",
       "      <td>trt2</td>\n",
       "    </tr>\n",
       "    <tr>\n",
       "      <th>24</th>\n",
       "      <td>25</td>\n",
       "      <td>5.37</td>\n",
       "      <td>trt2</td>\n",
       "    </tr>\n",
       "    <tr>\n",
       "      <th>25</th>\n",
       "      <td>26</td>\n",
       "      <td>5.29</td>\n",
       "      <td>trt2</td>\n",
       "    </tr>\n",
       "    <tr>\n",
       "      <th>26</th>\n",
       "      <td>27</td>\n",
       "      <td>4.92</td>\n",
       "      <td>trt2</td>\n",
       "    </tr>\n",
       "    <tr>\n",
       "      <th>27</th>\n",
       "      <td>28</td>\n",
       "      <td>6.15</td>\n",
       "      <td>trt2</td>\n",
       "    </tr>\n",
       "    <tr>\n",
       "      <th>28</th>\n",
       "      <td>29</td>\n",
       "      <td>5.80</td>\n",
       "      <td>trt2</td>\n",
       "    </tr>\n",
       "    <tr>\n",
       "      <th>29</th>\n",
       "      <td>30</td>\n",
       "      <td>5.26</td>\n",
       "      <td>trt2</td>\n",
       "    </tr>\n",
       "  </tbody>\n",
       "</table>\n",
       "</div>"
      ],
      "text/plain": [
       "    rownames  weight group\n",
       "0          1    4.17  ctrl\n",
       "1          2    5.58  ctrl\n",
       "2          3    5.18  ctrl\n",
       "3          4    6.11  ctrl\n",
       "4          5    4.50  ctrl\n",
       "5          6    4.61  ctrl\n",
       "6          7    5.17  ctrl\n",
       "7          8    4.53  ctrl\n",
       "8          9    5.33  ctrl\n",
       "9         10    5.14  ctrl\n",
       "10        11    4.81  trt1\n",
       "11        12    4.17  trt1\n",
       "12        13    4.41  trt1\n",
       "13        14    3.59  trt1\n",
       "14        15    5.87  trt1\n",
       "15        16    3.83  trt1\n",
       "16        17    6.03  trt1\n",
       "17        18    4.89  trt1\n",
       "18        19    4.32  trt1\n",
       "19        20    4.69  trt1\n",
       "20        21    6.31  trt2\n",
       "21        22    5.12  trt2\n",
       "22        23    5.54  trt2\n",
       "23        24    5.50  trt2\n",
       "24        25    5.37  trt2\n",
       "25        26    5.29  trt2\n",
       "26        27    4.92  trt2\n",
       "27        28    6.15  trt2\n",
       "28        29    5.80  trt2\n",
       "29        30    5.26  trt2"
      ]
     },
     "execution_count": 2,
     "metadata": {},
     "output_type": "execute_result"
    }
   ],
   "source": [
    "# Load the dataset into a DataFrame.\n",
    "plant_df = pd.read_csv(\"./data/PlantGrowth.csv\")\n",
    "\n",
    "# Show.\n",
    "plant_df"
   ]
  },
  {
   "cell_type": "markdown",
   "metadata": {},
   "source": [
    "## Display summary statistic "
   ]
  },
  {
   "cell_type": "code",
   "execution_count": null,
   "metadata": {},
   "outputs": [
    {
     "data": {
      "text/html": [
       "<div>\n",
       "<style scoped>\n",
       "    .dataframe tbody tr th:only-of-type {\n",
       "        vertical-align: middle;\n",
       "    }\n",
       "\n",
       "    .dataframe tbody tr th {\n",
       "        vertical-align: top;\n",
       "    }\n",
       "\n",
       "    .dataframe thead th {\n",
       "        text-align: right;\n",
       "    }\n",
       "</style>\n",
       "<table border=\"1\" class=\"dataframe\">\n",
       "  <thead>\n",
       "    <tr style=\"text-align: right;\">\n",
       "      <th></th>\n",
       "      <th>count</th>\n",
       "      <th>mean</th>\n",
       "      <th>std</th>\n",
       "      <th>min</th>\n",
       "      <th>25%</th>\n",
       "      <th>50%</th>\n",
       "      <th>75%</th>\n",
       "      <th>max</th>\n",
       "    </tr>\n",
       "    <tr>\n",
       "      <th>group</th>\n",
       "      <th></th>\n",
       "      <th></th>\n",
       "      <th></th>\n",
       "      <th></th>\n",
       "      <th></th>\n",
       "      <th></th>\n",
       "      <th></th>\n",
       "      <th></th>\n",
       "    </tr>\n",
       "  </thead>\n",
       "  <tbody>\n",
       "    <tr>\n",
       "      <th>ctrl</th>\n",
       "      <td>10.0</td>\n",
       "      <td>5.032</td>\n",
       "      <td>0.583091</td>\n",
       "      <td>4.17</td>\n",
       "      <td>4.5500</td>\n",
       "      <td>5.155</td>\n",
       "      <td>5.2925</td>\n",
       "      <td>6.11</td>\n",
       "    </tr>\n",
       "    <tr>\n",
       "      <th>trt1</th>\n",
       "      <td>10.0</td>\n",
       "      <td>4.661</td>\n",
       "      <td>0.793676</td>\n",
       "      <td>3.59</td>\n",
       "      <td>4.2075</td>\n",
       "      <td>4.550</td>\n",
       "      <td>4.8700</td>\n",
       "      <td>6.03</td>\n",
       "    </tr>\n",
       "    <tr>\n",
       "      <th>trt2</th>\n",
       "      <td>10.0</td>\n",
       "      <td>5.526</td>\n",
       "      <td>0.442573</td>\n",
       "      <td>4.92</td>\n",
       "      <td>5.2675</td>\n",
       "      <td>5.435</td>\n",
       "      <td>5.7350</td>\n",
       "      <td>6.31</td>\n",
       "    </tr>\n",
       "  </tbody>\n",
       "</table>\n",
       "</div>"
      ],
      "text/plain": [
       "       count   mean       std   min     25%    50%     75%   max\n",
       "group                                                           \n",
       "ctrl    10.0  5.032  0.583091  4.17  4.5500  5.155  5.2925  6.11\n",
       "trt1    10.0  4.661  0.793676  3.59  4.2075  4.550  4.8700  6.03\n",
       "trt2    10.0  5.526  0.442573  4.92  5.2675  5.435  5.7350  6.31"
      ]
     },
     "execution_count": 3,
     "metadata": {},
     "output_type": "execute_result"
    }
   ],
   "source": [
    "# Display statistics of 'weight' grouped by 'group'.\n",
    "plant_df.groupby('group')['weight'].describe()"
   ]
  },
  {
   "cell_type": "markdown",
   "metadata": {},
   "source": [
    "### Brief summary of the descriptive statistics for the `weight` variable grouped by treatment groups (`ctrl`, `trt1`, `trt2`):\n",
    "\n",
    "**`trt2`** has the highest mean weight, followed by the **`ctrl`** group, with **`trt1`** having the lowest mean weight.  \n",
    "**`trt1`** shows the largest variability in weight, as indicated by its higher standard deviation (0.79), whereas **`trt2`** shows the least variability with a standard deviation of 0.44.  \n",
    "The spread of weights (range and interquartile range) is narrower in **`trt2`**, suggesting more consistent results within this group.  \n",
    "These insights provide a good starting point for further statistical analysis, such as ANOVA, to test for significant differences between the groups.\n"
   ]
  },
  {
   "cell_type": "markdown",
   "metadata": {},
   "source": [
    "***\n",
    "\n",
    "## Visualize the data\n",
    "\n",
    "### Boxplot of `weight` grouped by treatment"
   ]
  },
  {
   "cell_type": "code",
   "execution_count": null,
   "metadata": {},
   "outputs": [
    {
     "data": {
      "image/png": "[encoded data removed]",
      "text/plain": [
       "<Figure size 800x600 with 1 Axes>"
      ]
     },
     "metadata": {},
     "output_type": "display_data"
    }
   ],
   "source": [
    "# Create a figure and axes.\n",
    "fig, ax = plt.subplots(figsize=(8, 6)) \n",
    "\n",
    "# Generate a boxplot of 'weight' by 'group' using Seaborn.\n",
    "sns.boxplot(x='group', y='weight', data=plant_df, palette='Set2', ax=ax)\n",
    "\n",
    "# Add title and axis labels.\n",
    "ax.set_title('Boxplot of WEIGHT grouped by treatment')\n",
    "ax.set_xlabel('Treatment group')\n",
    "ax.set_ylabel('Weight');"
   ]
  },
  {
   "cell_type": "markdown",
   "metadata": {},
   "source": [
    "### Strip plot to show the distribution of `weight`"
   ]
  },
  {
   "cell_type": "code",
   "execution_count": null,
   "metadata": {},
   "outputs": [
    {
     "data": {
      "image/png": "[encoded data removed]",
      "text/plain": [
       "<Figure size 800x600 with 1 Axes>"
      ]
     },
     "metadata": {},
     "output_type": "display_data"
    }
   ],
   "source": [
    "# Create a figure and axes.\n",
    "fig, ax = plt.subplots(figsize=(8, 6))\n",
    "\n",
    "# Generate a strip plot of 'weight' by 'group'.\n",
    "sns.stripplot(data=plant_df, x='group', y='weight', jitter=True, ax=ax, hue='group', palette='Set2', size=9)\n",
    "\n",
    "# Add title and axis labels.\n",
    "ax.set_title('Strip plot of plant WEIGHT by treatment group')\n",
    "ax.set_xlabel('Treatment group')\n",
    "ax.set_ylabel('Weight');"
   ]
  },
  {
   "cell_type": "markdown",
   "metadata": {},
   "source": [
    "### Importance of visualizing data distributions\n",
    "\n",
    "Creating graphical representations, like boxplots or strip plots, helps us:\n",
    "\n",
    "1. **Understand Variability**: Shows the range and spread of values within each group.  \n",
    "2. **Spot Outliers**: Highlights unusual values, such as the two outliers in the `trt1` group, which may affect results.  \n",
    "3. **Check Distribution**: Gives a quick sense of the shape of the data, like whether it’s symmetric or skewed.  \n",
    "4. **Validate Assumptions**: Helps assess if the data meets conditions for statistical tests, like normality and equal variances.\n",
    "\n",
    "These visualizations guide us in identifying potential problems and refining our analysis.\n"
   ]
  },
  {
   "cell_type": "markdown",
   "metadata": {},
   "source": [
    "***\n",
    "\n",
    "## The t-test and its assumptions"
   ]
  },
  {
   "cell_type": "markdown",
   "metadata": {},
   "source": [
    "\n",
    "The definition of **t-test** (**Student's t-test**) from [WikipediA](https://en.wikipedia.org/wiki/Student%27s_t-test): \n",
    "\n",
    "> Student's t-test is a statistical test used to test whether the difference between the response of two groups is statistically significant or not. It is any statistical hypothesis test in which the test statistic follows a Student's t-distribution under the null hypothesis. \n",
    "\n",
    "There are different types of t-tests depending on the nature of the data and the relationship between the groups being compared.\n",
    "\n",
    "1. **Independent Samples T-Test**: Compares means between two independent groups (e.g., `trt1` and `trt2` in this dataset).\n",
    "2. **Paired Samples T-Test**: Compares means from the same group at different times (e.g., pre-test and post-test).\n",
    "3. **One-Sample T-Test**: Compares a sample mean to a known value."
   ]
  },
  {
   "cell_type": "markdown",
   "metadata": {},
   "source": [
    "Applying **Independent Samples T-Test** the following [assumptions from Wikipedia](https://en.wikipedia.org/wiki/Student%27s_t-test#Assumptions) should be met:\n",
    "\n",
    "1. **Normality**: The data should follow a normal distribution.\n",
    "2. **Independence**: The observations in each group must be independent.\n",
    "3. **Homogeneity of Variance**: The variances in the two groups should be approximately equal.\n",
    "\n",
    "From the [Laerd Statistics: \"Independent t-test using SPSS Statistics\"](https://statistics.laerd.com/spss-tutorials/independent-t-test-using-spss-statistics.php) the assuptions are wider: \n",
    "\n",
    "1. **Continuous Dependent Variable**: The dependent variable (e.g., `weight`) must be measured on a continuous scale (interval or ratio level).\n",
    "2. **Categorical Independent Variable**: The independent variable should have two independent groups (e.g., `trt1` and `trt2` in this dataset).\n",
    "3. **Independence of Observations**: Observations must be independent, meaning no overlap exists between the groups or their participants.\n",
    "4. **No Significant Outliers**: The data should not have extreme values that could distort the results. Outliers can be identified and addressed before analysis.\n",
    "5. **Normality**: The dependent variable should be approximately normally distributed for each group. This can be tested using methods such as the [Shapiro-Wilk test](https://en.wikipedia.org/wiki/Shapiro%E2%80%93Wilk_test).\n",
    "6. **Homogeneity of Variance**: The variance of the dependent variable should be similar across the two groups. This can be tested using [Levene's test](https://en.wikipedia.org/wiki/Levene%27s_test).\n"
   ]
  },
  {
   "cell_type": "markdown",
   "metadata": {},
   "source": [
    "\n",
    "***\n",
    "\n",
    "## Performing a t-test between `trt1` and `trt2`\n",
    "\n",
    "We will conduct an independent samples t-test to determine if there is a statistically significant difference in mean weight between `trt1` and `trt2`."
   ]
  },
  {
   "cell_type": "markdown",
   "metadata": {},
   "source": [
    "Meeteng the assumptions:\n",
    "\n",
    "1. The dependent variable weight is continuous, as it represents the weight of plants, which can be measured on a ratio scale.\n",
    "\n",
    "2. The independent variable group has two categories (`trt1` and `trt2`).\n",
    "\n",
    "3. It seems to meet third assumption, as the observations from each treatment group (`trt1`, `trt2`) are independent of each other. \n",
    "\n",
    "4. Outliers can be checked using boxplots or other methods. Given the dataset's small size, it's important to visually inspect for outliers, which may distort the results."
   ]
  },
  {
   "cell_type": "code",
   "execution_count": 6,
   "metadata": {},
   "outputs": [
    {
     "data": {
      "image/png": "[encoded data removed]",
      "text/plain": [
       "<Figure size 600x400 with 1 Axes>"
      ]
     },
     "metadata": {},
     "output_type": "display_data"
    }
   ],
   "source": [
    "# Filter the data for two groups: trt1 and trt2.\n",
    "two_groups_df = plant_df[plant_df['group'].isin(['trt1', 'trt2'])]\n",
    "\n",
    "# Create a boxplot for the two groups.\n",
    "fig, ax = plt.subplots(figsize=(6, 4)) \n",
    "sns.boxplot(x='group', y='weight', data=two_groups_df, palette='Set2', ax=ax)\n",
    "\n",
    "# Add title and axis labels.\n",
    "ax.set_title('Boxplot of WEIGHT grouped by treatment (trt1 vs trt2)')\n",
    "ax.set_xlabel('Treatment group')\n",
    "ax.set_ylabel('Weight');"
   ]
  },
  {
   "cell_type": "markdown",
   "metadata": {},
   "source": [
    "There are outliers in the `trt1` treatment group. It looks like they should be saved to see how they affect the result. "
   ]
  },
  {
   "cell_type": "code",
   "execution_count": 7,
   "metadata": {},
   "outputs": [],
   "source": [
    "# Extract weights for the two groups.\n",
    "trt1 = plant_df[plant_df['group'] == 'trt1']['weight']\n",
    "trt2 = plant_df[plant_df['group'] == 'trt2']['weight']"
   ]
  },
  {
   "cell_type": "markdown",
   "metadata": {},
   "source": [
    "5. The results of the [**Shapiro-Wilk test**](https://en.wikipedia.org/wiki/Shapiro%E2%80%93Wilk_test) for normality are as follows:\n",
    "trt1: p-value = 0.452 (no significant departure from normality)\n",
    "trt2: p-value = 0.564 (no significant departure from normality)\n",
    "Since the p-values are all greater than 0.05, we fail to reject the null hypothesis of normality, indicating that the data is approximately normally distributed for our two groups."
   ]
  },
  {
   "cell_type": "code",
   "execution_count": 8,
   "metadata": {},
   "outputs": [
    {
     "name": "stdout",
     "output_type": "stream",
     "text": [
      "Shapiro-Wilk test for trt1: ShapiroResult(statistic=0.9304108619689941, pvalue=0.451945960521698)\n",
      "Shapiro-Wilk test for trt2: ShapiroResult(statistic=0.941005289554596, pvalue=0.5642533898353577)\n"
     ]
    }
   ],
   "source": [
    "# Test for normality using Shapiro-Wilk test.\n",
    "shapiro_trt1 = shapiro(trt1)\n",
    "shapiro_trt2 = shapiro(trt2)\n",
    "\n",
    "# Show the results.\n",
    "print(f\"Shapiro-Wilk test for trt1: {shapiro_trt1}\")\n",
    "print(f\"Shapiro-Wilk test for trt2: {shapiro_trt2}\")"
   ]
  },
  {
   "cell_type": "markdown",
   "metadata": {},
   "source": [
    "6. The results of [**Levene's test**](https://en.wikipedia.org/wiki/Levene%27s_test) for homogeneity of variance:\n",
    "p-value = 0.164 (no significant difference in variances across groups)\n",
    "Since the p-value is greater than 0.05, we fail to reject the null hypothesis of equal variances, meaning the assumption of homogeneity of variance is satisfied."
   ]
  },
  {
   "cell_type": "code",
   "execution_count": 9,
   "metadata": {},
   "outputs": [
    {
     "name": "stdout",
     "output_type": "stream",
     "text": [
      "Levene's test for equality of variances: LeveneResult(statistic=2.104177792800407, pvalue=0.1641008315679023)\n"
     ]
    }
   ],
   "source": [
    "# Test for equality of variances using Levene's test.\n",
    "levene_test = levene(trt1, trt2)\n",
    "\n",
    "# Show the results.\n",
    "print(f\"Levene's test for equality of variances: {levene_test}\")"
   ]
  },
  {
   "cell_type": "markdown",
   "metadata": {},
   "source": [
    "Finally, perform an independent two-sample t-test using [`scipy.stats.ttest_ind`](https://docs.scipy.org/doc/scipy/reference/generated/scipy.stats.ttest_ind.html) from the `scipy.stats` library, to compare the means of `trt1` and `trt2`. The test determines whether the difference in means between the two groups is statistically significant."
   ]
  },
  {
   "cell_type": "code",
   "execution_count": 10,
   "metadata": {},
   "outputs": [
    {
     "name": "stdout",
     "output_type": "stream",
     "text": [
      "T-Test results: TtestResult(statistic=-3.0100985421243616, pvalue=0.0075184261182198574, df=18.0)\n"
     ]
    }
   ],
   "source": [
    "# Perform the t-test.\n",
    "t_test = ttest_ind(trt1, trt2)\n",
    "\n",
    "# Show the results. \n",
    "print(f\"T-Test results: {t_test}\")"
   ]
  },
  {
   "cell_type": "markdown",
   "metadata": {},
   "source": [
    "***\n",
    "\n",
    "## ANOVA method, its advantages, and its use cases\n",
    "\n",
    "We analyze the [PlantGrowth](https://vincentarelbundock.github.io/Rdatasets/) dataset to compare the mean plant weights across three treatment groups: `ctrl` (control), `trt1` (treatment 1), and `trt2` (treatment 2). To achieve this, we apply Analysis of Variance (ANOVA).\n",
    "\n",
    "[ANOVA](https://en.wikipedia.org/wiki/Analysis_of_variance) is a statistical method used to test whether the means of multiple groups are significantly different from each other. It evaluates the null hypothesis ($H_0$), which states that all group means are equal.\n",
    "\n",
    "ANOVA works by comparing two sources of variability in the data:\n",
    "\n",
    " - **Between-Group Variance**: Differences between the means of different groups.\n",
    " - **Within-Group Variance**: Variability within each individual group.\n",
    "If the between-group variance is significantly greater than the within-group variance, it suggests that at least one group mean is different, leading to the rejection of the null hypothesis.\n",
    "\n",
    "**Types of ANOVA**:\n",
    " - **One-Way ANOVA**: Tests the effect of a single independent variable (factor) on a dependent variable.\n",
    " - **Two-Way ANOVA** (or more): Analyzes the effects of two or more factors simultaneously.\n",
    "\n",
    "**ANOVA Output**:\n",
    " - **F-statistic**: The ratio of between-group variance to within-group variance.\n",
    " - **p-value**: If $𝑝 < 0.05$, the null hypothesis is rejected, indicating that at least one group's mean is different.\n",
    "\n",
    "We apply [**One-Way ANOVA**](https://en.wikipedia.org/wiki/One-way_analysis_of_variance), as we are testing the effect of a single independent variable (`group`) on the dependent variable (`weight`).\n",
    "\n"
   ]
  },
  {
   "cell_type": "markdown",
   "metadata": {},
   "source": [
    "***\n",
    "\n",
    "## Performing ANOVA on `ctrl`, `trt1`, and `trt2`\n",
    "\n",
    "\n",
    "We will perform a one-way ANOVA to test whether there is a significant difference in mean weight across the three treatment groups."
   ]
  },
  {
   "cell_type": "code",
   "execution_count": 11,
   "metadata": {},
   "outputs": [],
   "source": [
    "# Extract weights for the three groups.\n",
    "ctrl = plant_df[plant_df['group'] == 'ctrl']['weight']\n",
    "trt1 = plant_df[plant_df['group'] == 'trt1']['weight']\n",
    "trt2 = plant_df[plant_df['group'] == 'trt2']['weight']"
   ]
  },
  {
   "cell_type": "code",
   "execution_count": 12,
   "metadata": {},
   "outputs": [
    {
     "name": "stdout",
     "output_type": "stream",
     "text": [
      "ANOVA results: F_onewayResult(statistic=4.846087862380136, pvalue=0.0159099583256229)\n"
     ]
    }
   ],
   "source": [
    "# Perform the ANOVA test.\n",
    "anova_result = f_oneway(ctrl, trt1, trt2)\n",
    "\n",
    "# Show the results. \n",
    "print(f\"ANOVA results: {anova_result}\")"
   ]
  },
  {
   "cell_type": "markdown",
   "metadata": {},
   "source": [
    "***\n",
    "\n",
    "# END"
   ]
  }
 ],
 "metadata": {
  "kernelspec": {
   "display_name": "base",
   "language": "python",
   "name": "python3"
  },
  "language_info": {
   "codemirror_mode": {
    "name": "ipython",
    "version": 3
   },
   "file_extension": ".py",
   "mimetype": "text/x-python",
   "name": "python",
   "nbconvert_exporter": "python",
   "pygments_lexer": "ipython3",
   "version": "3.11.5"
  }
 },
 "nbformat": 4,
 "nbformat_minor": 2
}
