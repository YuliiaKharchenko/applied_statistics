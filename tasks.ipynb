{
 "cells": [
  {
   "cell_type": "markdown",
   "metadata": {},
   "source": [
    "***\n",
    "\n",
    "<div style=\"text-align: center; color: purple;\">\n",
    "  <h1>Applied Statistics (Tasks)</h1>\n",
    "</div>\n",
    "\n",
    "***"
   ]
  },
  {
   "cell_type": "markdown",
   "metadata": {},
   "source": [
    "Import libraries. \n",
    "\n",
    "- [Math](https://docs.python.org/3/library/math.html)\n",
    "- [Itertools](https://docs.python.org/3/library/itertools.html)\n",
    "- [Random](https://docs.python.org/3/library/random.html)\n",
    "- [Numpy](https://numpy.org/doc/stable/reference/index.html#reference)\n",
    "- [Matplotlib](https://matplotlib.org/stable/contents.html)\n",
    "- [Statistical functions (scipy.stats)](https://docs.scipy.org/doc/scipy/reference/stats.html)\n",
    "- [Seaborn: statistical data visualization](https://seaborn.pydata.org/#seaborn-statistical-data-visualization)"
   ]
  },
  {
   "cell_type": "code",
   "execution_count": 1,
   "metadata": {},
   "outputs": [],
   "source": [
    "import math\n",
    "import itertools\n",
    "import random\n",
    "import numpy as np\n",
    "import matplotlib.pyplot as plt\n",
    "import scipy.stats as stats\n",
    "import seaborn as sns"
   ]
  },
  {
   "cell_type": "markdown",
   "metadata": {},
   "source": [
    "***\n",
    "\n",
    "### **Task 1: Permutations and Combinations**"
   ]
  },
  {
   "cell_type": "markdown",
   "metadata": {},
   "source": [
    "#### **Introduction**\n",
    "\n",
    "![](https://upload.wikimedia.org/wikipedia/commons/thumb/3/32/English_teaware.jpg/320px-English_teaware.jpg)\n",
    "\n",
    "This task is based on the famous [\"Lady Tasting Tea\"](https://en.wikipedia.org/wiki/Lady_tasting_tea) experiment, proposed by British statistician [Ronald Fisher](https://en.wikipedia.org/wiki/Ronald_Fisher).  In the original experiment, there were 8 cups in total—4 with milk poured first and 4 with tea poured first. A woman claimed she could distinguish which cups had milk added first by tasting the tea, and Fisher designed a statistical test to evaluate her ability to do so based on her selections.\n",
    "\n",
    "In this modified version of the experiment, there are 12 cups—6 with milk poured first and 6 with tea poured first. The goal is to calculate the probability that a person with no special skills can correctly guess the cups based on pure chance."
   ]
  },
  {
   "cell_type": "markdown",
   "metadata": {},
   "source": [
    "#### **\"Probability Challenge\"**\n",
    "\n",
    "1. We have 12 cups: 6 with milk first and 6 with tea first. Someone claims they can guess which 6 cups had milk first. What is the probability that they guess all 6 cups correctly, assuming they are just guessing?\n",
    "\n",
    "2. Now, suppose we allow one mistake (they can guess at least 5 cups correctly). What is the probability that they make at most one mistake?\n",
    "\n",
    "3. Would we accept two mistakes? Why or why not?"
   ]
  },
  {
   "cell_type": "markdown",
   "metadata": {},
   "source": [
    "***\n",
    "\n",
    "#### **Define the Hypotheses (Null and Alternative)**"
   ]
  },
  {
   "cell_type": "markdown",
   "metadata": {},
   "source": [
    "Basic definitions wrom [WikipediA](https://en.wikipedia.org/wiki/Null_hypothesis):\n",
    "\n",
    "> The null hypothesis and the alternative hypothesis are types of conjectures used in statistical tests to make statistical inferences, which are formal \n",
    "> methods of reaching conclusions and separating scientific claims from statistical noise."
   ]
  },
  {
   "cell_type": "markdown",
   "metadata": {},
   "source": [
    "##### **The Null Hypothesis**\n",
    "\n",
    "The person (whoewer it is) does not have any special skills of guessing the correct cup of tea with the milk in first or with the tea in first. The guessing is baised on the pure chance. \n",
    "\n",
    "\n",
    "##### **The Alternative Hypothesis**\n",
    "\n",
    "The person does have the ability of correctly guessing the right order of pouring milk or tea in first, and can do better than just guessing randomly.\n",
    "\n",
    "***"
   ]
  },
  {
   "cell_type": "markdown",
   "metadata": {},
   "source": [
    "Specifying and setting the main variables."
   ]
  },
  {
   "cell_type": "code",
   "execution_count": 2,
   "metadata": {},
   "outputs": [],
   "source": [
    "# Number of cups of tea in total.\n",
    "no_cups = 12\n",
    "\n",
    "# Number of cups of tea with milk in first.\n",
    "no_cups_milk_first = 6\n",
    "\n",
    "# Number of cups of tea with tea in first.\n",
    "no_cups_tea_first = 6"
   ]
  },
  {
   "cell_type": "markdown",
   "metadata": {},
   "source": [
    "Using the `math` library, specifically the [`math.comb()`](https://docs.python.org/3/library/math.html#math.comb)function. This function computes the number of ways to choose a specific number of items (cups in this case) from a larger set without considering the order of selection.\n",
    "\n",
    "The combination formula is defined as **n! / (k! * (n - k)!)** when **k** is less than or equal to **n**. If **k** is greater than **n**, the value is zero (**n** is the total number of items in a set, **𝑘** is the number of items to be selected from that set).\n"
   ]
  },
  {
   "cell_type": "code",
   "execution_count": 3,
   "metadata": {},
   "outputs": [
    {
     "data": {
      "text/plain": [
       "924"
      ]
     },
     "execution_count": 3,
     "metadata": {},
     "output_type": "execute_result"
    }
   ],
   "source": [
    "# Number of ways of selecting six cups from twelve.\n",
    "ways = math.comb(no_cups, no_cups_milk_first)\n",
    "\n",
    "# Show.\n",
    "ways\n"
   ]
  },
  {
   "cell_type": "markdown",
   "metadata": {},
   "source": [
    "Сreating a list of labels that can be used to represent each cup of tea in the experiment. This is useful for refering to individual cups by an index or label and performing calculations."
   ]
  },
  {
   "cell_type": "code",
   "execution_count": 4,
   "metadata": {},
   "outputs": [
    {
     "data": {
      "text/plain": [
       "[0, 1, 2, 3, 4, 5, 6, 7, 8, 9, 10, 11]"
      ]
     },
     "execution_count": 4,
     "metadata": {},
     "output_type": "execute_result"
    }
   ],
   "source": [
    "# The cup labels.\n",
    "labels = list(range(no_cups))\n",
    "\n",
    "# Show.\n",
    "labels"
   ]
  },
  {
   "cell_type": "markdown",
   "metadata": {},
   "source": [
    "Generating all possible combinations of the labels (which represent the cups), where the number of cups chosen is equal to no_cups_milk_first, using  [**`itertools.combinations()`**](https://docs.python.org/3/library/itertools.html#itertools.combinations)."
   ]
  },
  {
   "cell_type": "code",
   "execution_count": 5,
   "metadata": {},
   "outputs": [
    {
     "data": {
      "text/plain": [
       "924"
      ]
     },
     "execution_count": 5,
     "metadata": {},
     "output_type": "execute_result"
    }
   ],
   "source": [
    "# Show the different ways of selecting no_cups_milk_first out of no_cups cups of tea.\n",
    "combs = list(itertools.combinations(labels, no_cups_milk_first))\n",
    "\n",
    "# Show.\n",
    "# combs\n",
    "\n",
    "# Number of combinations.\n",
    "len(combs)"
   ]
  },
  {
   "cell_type": "markdown",
   "metadata": {},
   "source": [
    "Using [**`random.sample()`**](https://docs.python.org/3/library/random.html#random.sample) that randomly picks 6 unique labels from the list without replacement, which means that no label can be chosen more than once."
   ]
  },
  {
   "cell_type": "code",
   "execution_count": 6,
   "metadata": {},
   "outputs": [
    {
     "data": {
      "text/plain": [
       "[1, 2, 4, 8, 9, 10]"
      ]
     },
     "execution_count": 6,
     "metadata": {},
     "output_type": "execute_result"
    }
   ],
   "source": [
    "# Select six cups at random to put milk in first.\n",
    "labels_milk = random.sample(labels, 6)\n",
    "\n",
    "# Sort, inplace.\n",
    "labels_milk.sort()\n",
    "\n",
    "# Show.\n",
    "labels_milk"
   ]
  },
  {
   "cell_type": "markdown",
   "metadata": {},
   "source": [
    "Сalculating how much the guessed combinations (combs) overlap with the actual set of cups that had milk poured first (labels_milk)."
   ]
  },
  {
   "cell_type": "code",
   "execution_count": 7,
   "metadata": {},
   "outputs": [],
   "source": [
    "# Calculate the overlap between each element of combs and labels_milk.\n",
    "\n",
    "no_overlaps = []\n",
    "\n",
    "for comb in combs:\n",
    "  # Turn comb into a set.\n",
    "  s1 = set(comb)\n",
    "  # Turn labels_milk into a set.\n",
    "  s2 = set(labels_milk)\n",
    "  # Figure out where they overlap.\n",
    "  overlap = s1.intersection(s2)\n",
    "  # Append overlap to no_overlaps.\n",
    "  no_overlaps.append(len(overlap)) \n"
   ]
  },
  {
   "cell_type": "markdown",
   "metadata": {},
   "source": [
    "Using [**`np.unique()`**](https://numpy.org/doc/2.0/reference/generated/numpy.unique.html#numpy-unique) to return the unique values found in the input array (the no_overlaps list) and their corresponding frequencies."
   ]
  },
  {
   "cell_type": "code",
   "execution_count": 8,
   "metadata": {},
   "outputs": [
    {
     "data": {
      "text/plain": [
       "(array([0, 1, 2, 3, 4, 5, 6]),\n",
       " array([  1,  36, 225, 400, 225,  36,   1], dtype=int64))"
      ]
     },
     "execution_count": 8,
     "metadata": {},
     "output_type": "execute_result"
    }
   ],
   "source": [
    "# Count the number of times each overlap occurs.\n",
    "counts = np.unique(no_overlaps, return_counts=True)\n",
    "\n",
    "# Show.\n",
    "counts"
   ]
  },
  {
   "cell_type": "markdown",
   "metadata": {},
   "source": [
    "Generating a bar chart to visually represent the frequency of overlaps."
   ]
  },
  {
   "cell_type": "code",
   "execution_count": 9,
   "metadata": {},
   "outputs": [
    {
     "data": {
      "image/png": "[encoded data removed]",
      "text/plain": [
       "<Figure size 1000x800 with 1 Axes>"
      ]
     },
     "metadata": {},
     "output_type": "display_data"
    }
   ],
   "source": [
    "# Create a figure.\n",
    "fig, ax = plt.subplots(figsize=(10, 8))\n",
    "\n",
    "# Bar chart.\n",
    "ax.bar(counts[0], counts[1], color='red', edgecolor='black', alpha = 0.7);"
   ]
  },
  {
   "cell_type": "markdown",
   "metadata": {},
   "source": [
    "\n",
    "***\n",
    "\n",
    "#### **Evidence**\n",
    "\n",
    "There are 12 cups in total, and the person has to guess which 6 had milk poured first. If they are guessing randomly, there is only 1 correct combination out of 924 possible ways to pick 6 cups from 12.\n",
    "The chance of guessing all 6 correctly is about 0.1%. This means that it's very unlikely for someone to guess all the cups correctly. \n"
   ]
  },
  {
   "cell_type": "code",
   "execution_count": 10,
   "metadata": {},
   "outputs": [
    {
     "data": {
      "text/plain": [
       "0.0010822510822510823"
      ]
     },
     "execution_count": 10,
     "metadata": {},
     "output_type": "execute_result"
    }
   ],
   "source": [
    "# The probability that it will be (randomly) selected the six correct cups.\n",
    "1 / ways"
   ]
  },
  {
   "cell_type": "markdown",
   "metadata": {},
   "source": [
    "If we allow them to make 1 mistake and to guess at least 5 cups correctly, there are 36 ways to get 5 cups right (and 1 wrong) and still 1 way to get all 6 right. So, the chance of guessing at least five cups correctly is 4.0%. This is still a small probability, but it's more reasonable compared to guessing all 6 perfectly."
   ]
  },
  {
   "cell_type": "code",
   "execution_count": 11,
   "metadata": {},
   "outputs": [
    {
     "data": {
      "text/plain": [
       "0.04004329004329004"
      ]
     },
     "execution_count": 11,
     "metadata": {},
     "output_type": "execute_result"
    }
   ],
   "source": [
    "# The probability that it will be (randomly) selected at least five correct cups.\n",
    "(36 + 1) / ways"
   ]
  },
  {
   "cell_type": "markdown",
   "metadata": {},
   "source": [
    "If we allow them to make 2 mistakes and to guess at least 4 cups correctly, there are 225 ways to get 4 cups right (and 2 wrong), 36 ways to get 5 cups right (and 1 wrong) and 1 way to get all 6 cups right. The probability jumps to 28.35%, which is significantly higher, making it much easier to achieve success even by random guessing. "
   ]
  },
  {
   "cell_type": "code",
   "execution_count": 12,
   "metadata": {},
   "outputs": [
    {
     "data": {
      "text/plain": [
       "0.28354978354978355"
      ]
     },
     "execution_count": 12,
     "metadata": {},
     "output_type": "execute_result"
    }
   ],
   "source": [
    "# The probability that it will be (randomly) selected at least four correct cups.\n",
    "(225 + 36 + 1) / ways"
   ]
  },
  {
   "cell_type": "markdown",
   "metadata": {},
   "source": [
    "Again, if we allow two mistakes in the test, the probability of guessing correctly rises significantly. This increased probability weakens the validity of the null hypothesis, which claims that the person does not possess any special skill. Allowing two mistakes introduces enough chance into the process that it becomes unclear whether the person is truly guessing or has some ability, making the test less reliable for proving any special skill."
   ]
  },
  {
   "cell_type": "markdown",
   "metadata": {},
   "source": [
    "***\n",
    "***"
   ]
  },
  {
   "cell_type": "markdown",
   "metadata": {},
   "source": [
    "### **Task 2: numpy's Normal Distribution**"
   ]
  },
  {
   "cell_type": "markdown",
   "metadata": {},
   "source": [
    "#### **Introduction**\n",
    "\n",
    "![](https://upload.wikimedia.org/wikipedia/commons/thumb/1/1b/Normal_distribution_pdf.png/320px-Normal_distribution_pdf.png)"
   ]
  },
  {
   "cell_type": "markdown",
   "metadata": {},
   "source": [
    "The definition of Normal Distribution wrom [WikipediA](https://en.wikipedia.org/wiki/Normal_distribution):\n",
    "\n",
    "In probability theory and statistics, a **normal distribution** or **Gaussian distribution** is a type of continuous probability distribution for a real-valued random variable. The general form of its [**probability density function**](https://en.wikipedia.org/wiki/Probability_density_function) is \n",
    "\n",
    "$ f(x) = \\frac{1}{\\sqrt{2 \\pi \\sigma^2}} e^{-\\frac{(x - \\mu)^2}{2 \\sigma^2}} $\n",
    "\n",
    "\n",
    "The parameter $ \\mu $ is the **mean** or expectation of the distribution (and also its median and mode), while the parameter $ \\sigma ^{2} $ is the **variance**. The standard deviation of the distribution is $ \\sigma $ (sigma). A random variable with a Gaussian distribution is said to be normally distributed, and is called a **normal deviate**."
   ]
  },
  {
   "cell_type": "markdown",
   "metadata": {},
   "source": [
    "#### **\"Evaluating the Normality of Data\"**\n",
    "\n",
    "1. Create a sample of 100,000 values using numpy.random.normal() with a mean of 10.0 and a standard deviation of 3.0.\n",
    "2. Use scipy.stats.shapiro() to test if this sample follows a normal distribution. Analyze and explain the results, including any output from the test.\n",
    "3. Plot a histogram of the generated sample. Overlay the histogram with the corresponding normal distribution's probability density function."
   ]
  },
  {
   "cell_type": "markdown",
   "metadata": {},
   "source": [
    "***"
   ]
  },
  {
   "cell_type": "markdown",
   "metadata": {},
   "source": [
    "Generate a large sample from a normal distribution and provide basic statistical insights by printing its size, range (minimum and maximum values), and a preview of the initial values in the sample."
   ]
  },
  {
   "cell_type": "code",
   "execution_count": 13,
   "metadata": {},
   "outputs": [
    {
     "name": "stdout",
     "output_type": "stream",
     "text": [
      "100000\n",
      "-3.010201899577204\n",
      "23.278653726174465\n",
      "[ 3.27320988 17.14097298 11.55875207 10.37554209  6.73770651 12.15229971\n",
      " 10.69649567  9.3963848  11.17592033  7.36799715  7.74293064 10.2102097\n",
      " 10.00517494 17.46694226  8.37024673  7.71597791 11.97697407  4.52093662\n",
      "  7.30411295  7.39618504  8.05974897  7.87915028 10.09330333 13.07795999\n",
      " 10.48584265 12.84586011  6.97908791  8.12220355  8.95576956  8.04040671\n",
      " 14.46245543 10.36638563 13.11616951 10.76933278  9.71204103 12.14612672\n",
      " 13.06466089  8.8500682  10.50633829 12.53767989  8.32235369  5.86608398\n",
      " 14.05951948  9.86779081 10.22352386  7.31585493  6.30888899 16.40523493\n",
      " 10.70504357  7.93870043  8.18492421  0.99937016  9.26142307  8.510584\n",
      " 11.86584246  9.99225109 10.34099255 12.6204496   8.7765463  16.25288223\n",
      "  7.86857028 11.81793556 13.65125407 14.11430799 10.02804754 12.56635112\n",
      " 12.83355501  9.31246271  9.4226066  10.13431989 13.41434154 12.12172073\n",
      " 11.50045029 10.15165803  5.61464495 11.54280939 10.54310402 11.59631566\n",
      "  8.04865443 13.19453131 10.31693935 10.95399729 11.21312151 12.07456163\n",
      " 11.51602009 12.84848859 15.70553421  3.68862039 12.90419422 13.71012415\n",
      "  8.49683303  8.54522648 11.3213403  10.992707   12.9216742   7.9828915\n",
      " 13.98017154  6.32211766  9.08037187 13.54593972]\n"
     ]
    }
   ],
   "source": [
    "# Generate a random normal sample.\n",
    "data = np.random.normal(10.0, 3.0, 100000)\n",
    "\n",
    "print(len(data))\n",
    "print(min(data))\n",
    "print(max(data))\n",
    "# Show.\n",
    "print(data[:100])"
   ]
  },
  {
   "cell_type": "markdown",
   "metadata": {},
   "source": [
    "*** \n",
    "\n",
    "##### **Shapiro-Wilk Test**"
   ]
  },
  {
   "cell_type": "markdown",
   "metadata": {},
   "source": [
    "The definition of what **Shapiro–Wilk test** is from  [WikipediA](https://en.wikipedia.org/wiki/Shapiro%E2%80%93Wilk_test).\n",
    "\n",
    "Perform the [Shapiro Wilk test](https://docs.scipy.org/doc/scipy/reference/generated/scipy.stats.shapiro.html) from `scipy.stats` (module in the SciPy library that provides a comprehensive set of tools for statistical analysis and probability distributions).\n"
   ]
  },
  {
   "cell_type": "code",
   "execution_count": 14,
   "metadata": {},
   "outputs": [
    {
     "name": "stderr",
     "output_type": "stream",
     "text": [
      "c:\\Users\\uliya\\anaconda3\\Lib\\site-packages\\scipy\\stats\\_morestats.py:1882: UserWarning: p-value may not be accurate for N > 5000.\n",
      "  warnings.warn(\"p-value may not be accurate for N > 5000.\")\n"
     ]
    },
    {
     "data": {
      "text/plain": [
       "ShapiroResult(statistic=0.9999831318855286, pvalue=0.9681959748268127)"
      ]
     },
     "execution_count": 14,
     "metadata": {},
     "output_type": "execute_result"
    }
   ],
   "source": [
    "# Perform the Shapiro Wilk test.\n",
    "stats.shapiro(data)"
   ]
  },
  {
   "cell_type": "markdown",
   "metadata": {},
   "source": [
    "**Interpreting the results**\n",
    "\n",
    "We received a warning indicating that the Shapiro-Wilk test’s accuracy decreases with large sample sizes, particularly when the sample size exceeds 5,000 observations. In these cases, the p-value produced by the test may be unreliable.\n",
    "\n",
    "Despite this warning, the Shapiro-Wilk test statistic is close to 1, suggesting that the data is likely normally distributed. Additionally, the high p-value indicates no statistically significant deviation from normality. In other words, we fail to reject the null hypothesis that the sample comes from a normal distribution at common significance levels (e.g., 0.05)."
   ]
  },
  {
   "cell_type": "markdown",
   "metadata": {},
   "source": [
    "***\n",
    "\n",
    "Plot a histogram to show the shape of the data distribution and determine if it resembles the expected normal distribution (bell curve). Overlay the Probability Density Function (PDF) of a normal distribution with the same mean (10.0) and standard deviation (3.0) as the sample data."
   ]
  },
  {
   "cell_type": "code",
   "execution_count": 15,
   "metadata": {},
   "outputs": [
    {
     "data": {
      "image/png": "[encoded data removed]",
      "text/plain": [
       "<Figure size 1000x800 with 1 Axes>"
      ]
     },
     "metadata": {},
     "output_type": "display_data"
    }
   ],
   "source": [
    "# Create a blank plot.\n",
    "fig, ax = plt.subplots(figsize=(10, 8))\n",
    "\n",
    "# Plot the histogram.\n",
    "ax.hist(data,  bins=np.linspace(min(data), max(data), 100), density=True, color='purple', edgecolor='black',  alpha = 0.7)\n",
    "\n",
    "# Calculate and plot the PDF for the normal distribution with the same mean and std deviation\n",
    "x_values = np.linspace(min(data), max(data), 100)\n",
    "pdf_values = stats.norm.pdf(x_values, 10.0, 3.0)\n",
    "ax.plot(x_values, pdf_values, 'r', linewidth=3)\n",
    "\n",
    "ax.set_xlabel('Value')\n",
    "ax.set_ylabel('Density')\n",
    "ax.set_title('Histogram of sample data with normal distribution PDF');\n",
    "\n"
   ]
  },
  {
   "cell_type": "markdown",
   "metadata": {},
   "source": [
    "This visualization effectively shows how closely the sample data matches the expected normal distribution, allowing for an easy visual check of normality."
   ]
  },
  {
   "cell_type": "markdown",
   "metadata": {},
   "source": [
    "***\n",
    "***"
   ]
  },
  {
   "cell_type": "markdown",
   "metadata": {},
   "source": [
    "### **Task 3: t-Test Calculation**"
   ]
  },
  {
   "cell_type": "markdown",
   "metadata": {},
   "source": [
    "#### **Introduction**\n",
    "\n",
    "![](https://upload.wikimedia.org/wikipedia/commons/b/b8/Common_Test_Statistics_Chart.png)\n",
    "\n",
    "***Common Test Statistics Chart***"
   ]
  },
  {
   "cell_type": "markdown",
   "metadata": {},
   "source": [
    "The definition of **t-test** (**Student's t-test**) from [WikipediA](https://en.wikipedia.org/wiki/Student%27s_t-test): \n",
    "\n",
    "> Student's t-test is a statistical test used to test whether the difference between the response of two groups is statistically significant or not. It is any statistical hypothesis test in which the test statistic follows a Student's t-distribution under the null hypothesis. \n",
    "\n",
    "There are different types of t-tests depending on the nature of the data and the relationship between the groups being compared.\n",
    "\n",
    "1. **One-Sample t-Test**. Compares the mean of a single sample to a known value (usually the population mean).\n",
    "\n",
    "2. **Independent Two-Sample t-Test**. Compares the means of two independent groups.\n",
    "\n",
    "3. **Paired Sample t-Test (Dependent t-Test)**. Compares the means of two related groups (e.g., measurements before and after a treatment or intervention).\n"
   ]
  },
  {
   "cell_type": "markdown",
   "metadata": {},
   "source": [
    "#### **\"Calculating the T-Statistic for Paired Sample Data\"**\n",
    "\n",
    "In this task we need to analyze data on patients' resting heart rates measured before and after a two-week exercise program. Our goal is to determine whether the program significantly affected heart rates by calculating the t-statistic for paired data.\n",
    "\n",
    "**Data**:\n",
    "\n",
    "| Patient ID | 0  | 1  | 2  | 3  | 4  | 5  | 6  | 7  | 8  | 9  |\n",
    "|------------|----|----|----|----|----|----|----|----|----|----|\n",
    "| **Before** | 63 | 68 | 70 | 64 | 74 | 67 | 70 | 57 | 66 | 65 |\n",
    "| **After**  | 64 | 64 | 68 | 64 | 73 | 70 | 72 | 54 | 61 | 63 |\n",
    "\n",
    "**Steps**:\n",
    "\n",
    "1. Define Hypotheses: Null Hypothesis and Alternative Hypothesis.\n",
    "2. Evaluate the data based on the assumptions of the Paired t-Test.\n",
    "3. Calculate the t-statistic manually and using scipy.stats.ttest_rel().\n",
    "4. Compare the results and conclude whether the change in heart rate is statistically significant."
   ]
  },
  {
   "cell_type": "markdown",
   "metadata": {},
   "source": [
    "***\n",
    "\n",
    "**Defining hypotheses**: \n",
    "\n",
    "**Null Hypothesis (H₀)**: The mean resting heart rate of patients before and after the two-week exercise program is equal.\n",
    "\n",
    "**Alternative Hypothesis (H₁)**: The mean resting heart rate of patients before and after the two-week exercise program is not equal."
   ]
  },
  {
   "cell_type": "markdown",
   "metadata": {},
   "source": [
    "***\n",
    "\n",
    "**Evaluating the data based on the assumptions of the Paired t-Test.**"
   ]
  },
  {
   "cell_type": "markdown",
   "metadata": {},
   "source": [
    "Before proceeding to solve the task, it is necessary to analyze the given sample to verify its compliance with the ***assumptions*** (resources: [Dependent T-Test using SPSS Statistics](https://statistics.laerd.com/spss-tutorials/dependent-t-test-using-spss-statistics.php), [Assumptions_Wikipedia](https://en.wikipedia.org/wiki/Student%27s_t-test#Assumptions)).\n",
    "\n",
    "**Assumptions of the Paired t-Test**\n",
    "\n",
    "To ensure the validity of a paired t-test, the following assumptions must be satisfied:\n",
    "\n",
    "1. Dependent Variable on a Continuous Scale: The variable being measured should be continuous (e.g., interval or ratio scale). Examples include exam scores, weights, or heart rates.\n",
    "\n",
    "2. Related Groups (Paired Observations): The two datasets must come from the same individuals or entities measured twice (e.g., \"before\" and \"after\" conditions).\n",
    "\n",
    "3. No Significant Outliers: There should be no extreme data points in the differences between the two paired groups, as they can distort the results.\n",
    "\n",
    "4. Normal Distribution of Differences: The differences between paired measurements should follow an approximately normal distribution. This assumption is somewhat robust, but significant deviations can affect the reliability of the test. Tests like the Shapiro-Wilk test can verify normality."
   ]
  },
  {
   "cell_type": "code",
   "execution_count": 16,
   "metadata": {},
   "outputs": [],
   "source": [
    "# Define the data.\n",
    "before = np.array([63, 68, 70, 64, 74, 67, 70, 57, 66, 65])\n",
    "after = np.array([64, 64, 68, 64, 73, 70, 72, 54, 61, 63])"
   ]
  },
  {
   "cell_type": "markdown",
   "metadata": {},
   "source": [
    "**Assumption Check**\n",
    "\n",
    "1. The dependent variable (heart rate) is measured on a continuous scale (in beats per minute). The assumption is satisfied.\n",
    "2. Each \"Before\" value directly corresponds to an \"After\" value for the same patient, making it paired data. The assumption is satisfied.\n",
    "3. Differences between \"Before\" and \"After\" heart rates:"
   ]
  },
  {
   "cell_type": "code",
   "execution_count": 17,
   "metadata": {},
   "outputs": [
    {
     "name": "stdout",
     "output_type": "stream",
     "text": [
      "[-1  4  2  0  1 -3 -2  3  5  2]\n"
     ]
    }
   ],
   "source": [
    "# Calculate the differences.\n",
    "differences = before - after\n",
    "print(differences)"
   ]
  },
  {
   "cell_type": "code",
   "execution_count": 18,
   "metadata": {},
   "outputs": [
    {
     "data": {
      "image/png": "[encoded data removed]",
      "text/plain": [
       "<Figure size 640x480 with 1 Axes>"
      ]
     },
     "metadata": {},
     "output_type": "display_data"
    }
   ],
   "source": [
    "# Box plot.\n",
    "sns.boxplot(data=[before,after]);"
   ]
  },
  {
   "cell_type": "code",
   "execution_count": 19,
   "metadata": {},
   "outputs": [
    {
     "data": {
      "image/png": "[encoded data removed]",
      "text/plain": [
       "<Figure size 640x480 with 1 Axes>"
      ]
     },
     "metadata": {},
     "output_type": "display_data"
    }
   ],
   "source": [
    "# Create a strip plot.\n",
    "sns.stripplot(data=[before,after]);"
   ]
  },
  {
   "cell_type": "markdown",
   "metadata": {},
   "source": [
    "Conclusion: No significant outliers detected."
   ]
  },
  {
   "cell_type": "markdown",
   "metadata": {},
   "source": [
    "4. Using the differences calculated, we can check for normality using the Shapiro-Wilk test."
   ]
  },
  {
   "cell_type": "code",
   "execution_count": 20,
   "metadata": {},
   "outputs": [
    {
     "data": {
      "text/plain": [
       "ShapiroResult(statistic=0.9752339720726013, pvalue=0.9346861243247986)"
      ]
     },
     "execution_count": 20,
     "metadata": {},
     "output_type": "execute_result"
    }
   ],
   "source": [
    "# Perform the Shapiro Wilk test.\n",
    "stats.shapiro(differences)"
   ]
  },
  {
   "cell_type": "markdown",
   "metadata": {},
   "source": [
    "Test Statistic сlose to 1, suggesting the data aligns reasonably well with normal distribution. Since p>0.05, we fail to reject the null hypothesis, meaning there is no significant evidence that the differences deviate from normality."
   ]
  },
  {
   "cell_type": "markdown",
   "metadata": {},
   "source": [
    "***\n",
    "\n",
    "**Calculating the t-statistic manually and using scipy.stats.ttest_rel().**"
   ]
  },
  {
   "cell_type": "markdown",
   "metadata": {},
   "source": [
    "From the WikipediA resourse: [Dependent t-test for paired samples](https://en.wikipedia.org/wiki/Student%27s_t-test#Dependent_t-test_for_paired_samples) the formula for the Paired t-Test is as follows:\n",
    "\n",
    "$ t = \\frac{\\bar{X}_D - \\mu_0}{\\frac{s_D}{\\sqrt{n}}} $\n",
    "\n",
    "Where:\n",
    "- $ \\bar{X}_D $: the mean of the differences between paired observations (e.g., results before and after).\n",
    "- $ s_D $: the standard deviation of the differences.\n",
    "- $ n $: the number of paired observations.\n",
    "- $ \\mu_0 $: the hypothesized difference (usually \\(0\\) when testing for no change).\n",
    "\n"
   ]
  },
  {
   "cell_type": "markdown",
   "metadata": {},
   "source": [
    "So, let's implement a calculation according to this formula using Python (the differences have already been calculated)."
   ]
  },
  {
   "cell_type": "code",
   "execution_count": 21,
   "metadata": {},
   "outputs": [
    {
     "data": {
      "text/plain": [
       "1.3372274824806283"
      ]
     },
     "execution_count": 21,
     "metadata": {},
     "output_type": "execute_result"
    }
   ],
   "source": [
    "# Calculate mean difference (X̄_D).\n",
    "X_D_bar = np.mean(differences)\n",
    "\n",
    "# Calculate standard deviation of differences (s_D).\n",
    "s_D = np.std(differences, ddof=1)\n",
    "\n",
    "# Number of pairs (n).\n",
    "n = len(differences)\n",
    "\n",
    "# Hypothesized difference (μ_0).\n",
    "mu_0 = 0\n",
    "\n",
    "# Calculate t-statistic.\n",
    "t_statistic = (X_D_bar - mu_0) / (s_D / np.sqrt(n))\n",
    "\n",
    "# Show.\n",
    "t_statistic"
   ]
  },
  {
   "cell_type": "markdown",
   "metadata": {},
   "source": [
    "Now, let's Implement a calculation of the t-statistic using [scipy.stats.ttest_rel](https://docs.scipy.org/doc/scipy/reference/generated/scipy.stats.ttest_rel.html#ttest-rel) from the`scipy.stats` library.  "
   ]
  },
  {
   "cell_type": "code",
   "execution_count": 22,
   "metadata": {},
   "outputs": [
    {
     "data": {
      "text/plain": [
       "TtestResult(statistic=1.337227482480628, pvalue=0.21396011317404623, df=9)"
      ]
     },
     "execution_count": 22,
     "metadata": {},
     "output_type": "execute_result"
    }
   ],
   "source": [
    "# Paired samples t-test.\n",
    "stats.ttest_rel(before, after)"
   ]
  },
  {
   "cell_type": "markdown",
   "metadata": {},
   "source": [
    "***\n",
    "\n",
    "**Conclusions**\n",
    "\n",
    "The manually calculated t-statistic matches the result obtained using `scipy.stats.ttest_rel`, confirming the correctness of both approaches. \n",
    "\n",
    "The results of the paired t-test are as follows:\n",
    "\n",
    " - t-statistic: 1.3372\n",
    " - p-value: 0.2140\n",
    " - Degrees of freedom (df): 9.\n",
    "\n",
    " The t-statistic of 1.3372 is not unusually large because of the small sample size (10 paired observations, resulting in 9 degrees of freedom). With a small sample, it's harder to achieve a large t-statistic, as the variability in the data (standard deviation) affects the calculation. The result indicates a modest difference between the \"before\" and \"after\" heart rates, but the p-value of 0.2140 suggests the difference is not statistically significant."
   ]
  },
  {
   "cell_type": "markdown",
   "metadata": {},
   "source": [
    "***\n",
    "\n",
    "END"
   ]
  }
 ],
 "metadata": {
  "kernelspec": {
   "display_name": "base",
   "language": "python",
   "name": "python3"
  },
  "language_info": {
   "codemirror_mode": {
    "name": "ipython",
    "version": 3
   },
   "file_extension": ".py",
   "mimetype": "text/x-python",
   "name": "python",
   "nbconvert_exporter": "python",
   "pygments_lexer": "ipython3",
   "version": "3.11.5"
  }
 },
 "nbformat": 4,
 "nbformat_minor": 2
}
