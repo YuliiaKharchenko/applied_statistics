{
 "cells": [
  {
   "cell_type": "markdown",
   "metadata": {},
   "source": [
    "***\n",
    "\n",
    "<div style=\"text-align: center; color: purple;\">\n",
    "  <h1>Applied Statistics (Tasks)</h1>\n",
    "</div>\n",
    "\n",
    "***"
   ]
  },
  {
   "cell_type": "markdown",
   "metadata": {},
   "source": [
    "Import libraries. \n",
    "\n",
    "- [Math](https://docs.python.org/3/library/math.html)\n",
    "- [Itertools](https://docs.python.org/3/library/itertools.html)\n",
    "- [Random](https://docs.python.org/3/library/random.html)\n",
    "- [Numpy](https://numpy.org/doc/stable/reference/index.html#reference)\n",
    "- [Matplotlib](https://matplotlib.org/stable/contents.html)\n",
    "- [Statistical functions (scipy.stats)](https://docs.scipy.org/doc/scipy/reference/stats.html)\n",
    "- [Seaborn: statistical data visualization](https://seaborn.pydata.org/#seaborn-statistical-data-visualization)"
   ]
  },
  {
   "cell_type": "code",
   "execution_count": 1,
   "metadata": {},
   "outputs": [],
   "source": [
    "import math\n",
    "import itertools\n",
    "import random\n",
    "import numpy as np\n",
    "import matplotlib.pyplot as plt\n",
    "import scipy.stats as stats\n",
    "import seaborn as sns\n",
    "from scipy.stats import f_oneway"
   ]
  },
  {
   "cell_type": "markdown",
   "metadata": {},
   "source": [
    "***\n",
    "\n",
    "### **Task 1: Permutations and Combinations**"
   ]
  },
  {
   "cell_type": "markdown",
   "metadata": {},
   "source": [
    "#### **Introduction**\n",
    "\n",
    "![](https://upload.wikimedia.org/wikipedia/commons/thumb/3/32/English_teaware.jpg/320px-English_teaware.jpg)\n",
    "\n",
    "This task is based on the famous [\"Lady Tasting Tea\"](https://en.wikipedia.org/wiki/Lady_tasting_tea) experiment, proposed by British statistician [Ronald Fisher](https://en.wikipedia.org/wiki/Ronald_Fisher).  In the original experiment, there were 8 cups in total—4 with milk poured first and 4 with tea poured first. A woman claimed she could distinguish which cups had milk added first by tasting the tea, and Fisher designed a statistical test to evaluate her ability to do so based on her selections.\n",
    "\n",
    "In this modified version of the experiment, there are 12 cups—6 with milk poured first and 6 with tea poured first. The goal is to calculate the probability that a person with no special skills can correctly guess the cups based on pure chance."
   ]
  },
  {
   "cell_type": "markdown",
   "metadata": {},
   "source": [
    "#### **\"Probability Challenge\"**\n",
    "\n",
    "1. We have 12 cups: 6 with milk first and 6 with tea first. Someone claims they can guess which 6 cups had milk first. What is the probability that they guess all 6 cups correctly, assuming they are just guessing?\n",
    "\n",
    "2. Now, suppose we allow one mistake (they can guess at least 5 cups correctly). What is the probability that they make at most one mistake?\n",
    "\n",
    "3. Would we accept two mistakes? Why or why not?"
   ]
  },
  {
   "cell_type": "markdown",
   "metadata": {},
   "source": [
    "***\n",
    "\n",
    "#### **Define the Hypotheses (Null and Alternative)**"
   ]
  },
  {
   "cell_type": "markdown",
   "metadata": {},
   "source": [
    "Basic definitions from [Wikipedia](https://en.wikipedia.org/wiki/Null_hypothesis):\n",
    "\n",
    "> The null hypothesis and the alternative hypothesis are types of conjectures used in statistical tests to make statistical inferences, which are formal \n",
    "> methods of reaching conclusions and separating scientific claims from statistical noise."
   ]
  },
  {
   "cell_type": "markdown",
   "metadata": {},
   "source": [
    "##### **The Null Hypothesis**\n",
    "\n",
    "The person (whoever it is) does not have any special skills of guessing the correct cup of tea with the milk in first or with the tea in first. The guessing is based on the pure chance. \n",
    "\n",
    "\n",
    "##### **The Alternative Hypothesis**\n",
    "\n",
    "The person does have the ability of correctly guessing the right order of pouring milk or tea in first, and can do better than just guessing randomly.\n",
    "\n",
    "***"
   ]
  },
  {
   "cell_type": "markdown",
   "metadata": {},
   "source": [
    "Specifying and setting the main variables."
   ]
  },
  {
   "cell_type": "code",
   "execution_count": 2,
   "metadata": {},
   "outputs": [],
   "source": [
    "# Number of cups of tea in total.\n",
    "no_cups = 12\n",
    "\n",
    "# Number of cups of tea with milk in first.\n",
    "no_cups_milk_first = 6\n",
    "\n",
    "# Number of cups of tea with tea in first.\n",
    "no_cups_tea_first = 6"
   ]
  },
  {
   "cell_type": "markdown",
   "metadata": {},
   "source": [
    "Using the `math` library, specifically the [`math.comb()`](https://docs.python.org/3/library/math.html#math.comb)function. This function computes the number of ways to choose a specific number of items (cups in this case) from a larger set without considering the order of selection.\n",
    "\n",
    "The combination formula is defined as **n! / (k! * (n - k)!)** when **k** is less than or equal to **n**. If **k** is greater than **n**, the value is zero (**n** is the total number of items in a set, **𝑘** is the number of items to be selected from that set).\n"
   ]
  },
  {
   "cell_type": "code",
   "execution_count": 3,
   "metadata": {},
   "outputs": [
    {
     "data": {
      "text/plain": [
       "924"
      ]
     },
     "execution_count": 3,
     "metadata": {},
     "output_type": "execute_result"
    }
   ],
   "source": [
    "# Number of ways of selecting six cups from twelve.\n",
    "ways = math.comb(no_cups, no_cups_milk_first)\n",
    "\n",
    "# Show.\n",
    "ways\n"
   ]
  },
  {
   "cell_type": "markdown",
   "metadata": {},
   "source": [
    "Creating a list of labels that can be used to represent each cup of tea in the experiment. This is useful for referring to individual cups by an index or label and performing calculations."
   ]
  },
  {
   "cell_type": "code",
   "execution_count": 4,
   "metadata": {},
   "outputs": [
    {
     "data": {
      "text/plain": [
       "[0, 1, 2, 3, 4, 5, 6, 7, 8, 9, 10, 11]"
      ]
     },
     "execution_count": 4,
     "metadata": {},
     "output_type": "execute_result"
    }
   ],
   "source": [
    "# The cup labels.\n",
    "labels = list(range(no_cups))\n",
    "\n",
    "# Show.\n",
    "labels"
   ]
  },
  {
   "cell_type": "markdown",
   "metadata": {},
   "source": [
    "Generating all possible combinations of the labels (which represent the cups), where the number of cups chosen is equal to no_cups_milk_first, using  [**`itertools.combinations()`**](https://docs.python.org/3/library/itertools.html#itertools.combinations)."
   ]
  },
  {
   "cell_type": "code",
   "execution_count": 5,
   "metadata": {},
   "outputs": [
    {
     "data": {
      "text/plain": [
       "924"
      ]
     },
     "execution_count": 5,
     "metadata": {},
     "output_type": "execute_result"
    }
   ],
   "source": [
    "# Show the different ways of selecting no_cups_milk_first out of no_cups cups of tea.\n",
    "combs = list(itertools.combinations(labels, no_cups_milk_first))\n",
    "\n",
    "# Show.\n",
    "# combs\n",
    "\n",
    "# Number of combinations.\n",
    "len(combs)"
   ]
  },
  {
   "cell_type": "markdown",
   "metadata": {},
   "source": [
    "Using [**`random.sample()`**](https://docs.python.org/3/library/random.html#random.sample) that randomly picks 6 unique labels from the list without replacement, which means that no label can be chosen more than once."
   ]
  },
  {
   "cell_type": "code",
   "execution_count": 6,
   "metadata": {},
   "outputs": [
    {
     "data": {
      "text/plain": [
       "[2, 4, 5, 6, 7, 9]"
      ]
     },
     "execution_count": 6,
     "metadata": {},
     "output_type": "execute_result"
    }
   ],
   "source": [
    "# Select six cups at random to put milk in first.\n",
    "labels_milk = random.sample(labels, 6)\n",
    "\n",
    "# Sort, inplace.\n",
    "labels_milk.sort()\n",
    "\n",
    "# Show.\n",
    "labels_milk"
   ]
  },
  {
   "cell_type": "markdown",
   "metadata": {},
   "source": [
    "Calculating how much the guessed combinations (combs) overlap with the actual set of cups that had milk poured first (labels_milk)."
   ]
  },
  {
   "cell_type": "code",
   "execution_count": 7,
   "metadata": {},
   "outputs": [],
   "source": [
    "# Calculate the overlap between each element of combs and labels_milk.\n",
    "\n",
    "no_overlaps = []\n",
    "\n",
    "for comb in combs:\n",
    "  # Turn comb into a set.\n",
    "  s1 = set(comb)\n",
    "  # Turn labels_milk into a set.\n",
    "  s2 = set(labels_milk)\n",
    "  # Figure out where they overlap.\n",
    "  overlap = s1.intersection(s2)\n",
    "  # Append overlap to no_overlaps.\n",
    "  no_overlaps.append(len(overlap)) \n"
   ]
  },
  {
   "cell_type": "markdown",
   "metadata": {},
   "source": [
    "Using [**`np.unique()`**](https://numpy.org/doc/2.0/reference/generated/numpy.unique.html#numpy-unique) to return the unique values found in the input array (the no_overlaps list) and their corresponding frequencies."
   ]
  },
  {
   "cell_type": "code",
   "execution_count": 8,
   "metadata": {},
   "outputs": [
    {
     "data": {
      "text/plain": [
       "(array([0, 1, 2, 3, 4, 5, 6]),\n",
       " array([  1,  36, 225, 400, 225,  36,   1], dtype=int64))"
      ]
     },
     "execution_count": 8,
     "metadata": {},
     "output_type": "execute_result"
    }
   ],
   "source": [
    "# Count the number of times each overlap occurs.\n",
    "counts = np.unique(no_overlaps, return_counts=True)\n",
    "\n",
    "# Show.\n",
    "counts"
   ]
  },
  {
   "cell_type": "markdown",
   "metadata": {},
   "source": [
    "Generating a bar chart to visually represent the frequency of overlaps."
   ]
  },
  {
   "cell_type": "code",
   "execution_count": 9,
   "metadata": {},
   "outputs": [
    {
     "data": {
      "image/png": "[encoded data removed]",
      "text/plain": [
       "<Figure size 1000x800 with 1 Axes>"
      ]
     },
     "metadata": {},
     "output_type": "display_data"
    }
   ],
   "source": [
    "# Create a figure.\n",
    "fig, ax = plt.subplots(figsize=(10, 8))\n",
    "\n",
    "# Bar chart.\n",
    "ax.bar(counts[0], counts[1], color='red', edgecolor='black', alpha = 0.7);"
   ]
  },
  {
   "cell_type": "markdown",
   "metadata": {},
   "source": [
    "\n",
    "***\n",
    "\n",
    "#### **Evidence**\n",
    "\n",
    "There are 12 cups in total, and the person has to guess which 6 had milk poured first. If they are guessing randomly, there is only 1 correct combination out of 924 possible ways to pick 6 cups from 12.\n",
    "The chance of guessing all 6 correctly is about 0.1%. This means that it's very unlikely for someone to guess all the cups correctly. \n"
   ]
  },
  {
   "cell_type": "code",
   "execution_count": 10,
   "metadata": {},
   "outputs": [
    {
     "data": {
      "text/plain": [
       "0.0010822510822510823"
      ]
     },
     "execution_count": 10,
     "metadata": {},
     "output_type": "execute_result"
    }
   ],
   "source": [
    "# The probability that it will be (randomly) selected the six correct cups.\n",
    "1 / ways"
   ]
  },
  {
   "cell_type": "markdown",
   "metadata": {},
   "source": [
    "If we allow them to make 1 mistake and to guess at least 5 cups correctly, there are 36 ways to get 5 cups right (and 1 wrong) and still 1 way to get all 6 right. So, the chance of guessing at least five cups correctly is 4.0%. This is still a small probability, but it's more reasonable compared to guessing all 6 perfectly."
   ]
  },
  {
   "cell_type": "code",
   "execution_count": 11,
   "metadata": {},
   "outputs": [
    {
     "data": {
      "text/plain": [
       "0.04004329004329004"
      ]
     },
     "execution_count": 11,
     "metadata": {},
     "output_type": "execute_result"
    }
   ],
   "source": [
    "# The probability that it will be (randomly) selected at least five correct cups.\n",
    "(36 + 1) / ways"
   ]
  },
  {
   "cell_type": "markdown",
   "metadata": {},
   "source": [
    "If we allow them to make 2 mistakes and to guess at least 4 cups correctly, there are 225 ways to get 4 cups right (and 2 wrong), 36 ways to get 5 cups right (and 1 wrong) and 1 way to get all 6 cups right. The probability jumps to 28.35%, which is significantly higher, making it much easier to achieve success even by random guessing. "
   ]
  },
  {
   "cell_type": "code",
   "execution_count": 12,
   "metadata": {},
   "outputs": [
    {
     "data": {
      "text/plain": [
       "0.28354978354978355"
      ]
     },
     "execution_count": 12,
     "metadata": {},
     "output_type": "execute_result"
    }
   ],
   "source": [
    "# The probability that it will be (randomly) selected at least four correct cups.\n",
    "(225 + 36 + 1) / ways"
   ]
  },
  {
   "cell_type": "markdown",
   "metadata": {},
   "source": [
    "Again, if we allow two mistakes in the test, the probability of guessing correctly rises significantly. This increased probability weakens the validity of the null hypothesis, which claims that the person does not possess any special skill. Allowing two mistakes introduces enough chance into the process that it becomes unclear whether the person is truly guessing or has some ability, making the test less reliable for proving any special skill."
   ]
  },
  {
   "cell_type": "markdown",
   "metadata": {},
   "source": [
    "***\n",
    "***"
   ]
  },
  {
   "cell_type": "markdown",
   "metadata": {},
   "source": [
    "### **Task 2: numpy's Normal Distribution**"
   ]
  },
  {
   "cell_type": "markdown",
   "metadata": {},
   "source": [
    "#### **Introduction**\n",
    "\n",
    "![](https://upload.wikimedia.org/wikipedia/commons/thumb/1/1b/Normal_distribution_pdf.png/320px-Normal_distribution_pdf.png)"
   ]
  },
  {
   "cell_type": "markdown",
   "metadata": {},
   "source": [
    "The definition of Normal Distribution from [WikipediA](https://en.wikipedia.org/wiki/Normal_distribution):\n",
    "\n",
    "In probability theory and statistics, a **normal distribution** or **Gaussian distribution** is a type of continuous probability distribution for a real-valued random variable. The general form of its [**probability density function**](https://en.wikipedia.org/wiki/Probability_density_function) is \n",
    "\n",
    "$ f(x) = \\frac{1}{\\sqrt{2 \\pi \\sigma^2}} e^{-\\frac{(x - \\mu)^2}{2 \\sigma^2}} $\n",
    "\n",
    "\n",
    "The parameter $ \\mu $ is the **mean** or expectation of the distribution (and also its median and mode), while the parameter $ \\sigma ^{2} $ is the **variance**. The standard deviation of the distribution is $ \\sigma $ (sigma). A random variable with a Gaussian distribution is said to be normally distributed, and is called a **normal deviate**."
   ]
  },
  {
   "cell_type": "markdown",
   "metadata": {},
   "source": [
    "#### **\"Evaluating the Normality of Data\"**\n",
    "\n",
    "1. Create a sample of 100,000 values using numpy.random.normal() with a mean of 10.0 and a standard deviation of 3.0.\n",
    "2. Use scipy.stats.shapiro() to test if this sample follows a normal distribution. Analyse and explain the results, including any output from the test.\n",
    "3. Plot a histogram of the generated sample. Overlay the histogram with the corresponding normal distribution's probability density function."
   ]
  },
  {
   "cell_type": "markdown",
   "metadata": {},
   "source": [
    "***"
   ]
  },
  {
   "cell_type": "markdown",
   "metadata": {},
   "source": [
    "Generate a large sample from a normal distribution and provide basic statistical insights by printing its size, range (minimum and maximum values), and a preview of the initial values in the sample."
   ]
  },
  {
   "cell_type": "code",
   "execution_count": 13,
   "metadata": {},
   "outputs": [
    {
     "name": "stdout",
     "output_type": "stream",
     "text": [
      "100000\n",
      "-3.289156118436491\n",
      "23.791512242261575\n",
      "[11.63193735 15.10399425 11.40584444  7.28743142  9.70333944  9.28797144\n",
      "  7.0207127  14.65137675 12.08543735  8.02931303 10.82247708  9.61546121\n",
      "  9.83805682 10.44796551  9.95131843 13.18176153 12.53844989  9.66318913\n",
      " 11.1762823   6.01416921  3.35495033  5.00462038 14.11348659 11.01268162\n",
      " 10.88173444 12.89518163 12.21140118 10.93415629  8.09143225 11.51379672\n",
      " 10.96886089  9.52802306 11.22485537  8.65484271 11.47296904 13.00538547\n",
      "  7.03256741 12.75601538 10.12126422  5.80143953  5.53432586  7.23608238\n",
      "  9.45689673  6.46571629 14.07060469  9.64186602 10.10739655  6.44028274\n",
      "  9.4658856   9.82391418 13.58291539 10.29170291 12.77598785  5.31038347\n",
      "  8.93509016 12.97354935  8.10150277 10.60446763  9.69779415  9.15839841\n",
      "  5.07147578 14.34062685  8.65154267 12.20974457  9.5497389   7.83835198\n",
      " 10.71589377  3.74311996  8.29905396 10.07337819  6.7958881  13.10763198\n",
      " 14.90922484  4.88214124  8.65373388  8.51087725 11.69299423 12.38222361\n",
      " 15.81237469 14.17269782  9.48291153 11.87883572  8.17124296  9.79847722\n",
      " 13.41273763  8.3332466   9.17889952  5.73428279 11.27154043  8.4172512\n",
      "  8.15418422  3.95592332  9.77450259  7.87506129  9.22110156 11.46314751\n",
      " 12.41172457 11.53162241  5.58731365  9.1318171 ]\n"
     ]
    }
   ],
   "source": [
    "# Generate a random normal sample.\n",
    "data = np.random.normal(10.0, 3.0, 100000)\n",
    "\n",
    "print(len(data))\n",
    "print(min(data))\n",
    "print(max(data))\n",
    "# Show.\n",
    "print(data[:100])"
   ]
  },
  {
   "cell_type": "markdown",
   "metadata": {},
   "source": [
    "*** \n",
    "\n",
    "##### **Shapiro-Wilk Test**"
   ]
  },
  {
   "cell_type": "markdown",
   "metadata": {},
   "source": [
    "The definition of what **Shapiro–Wilk test** is from  [WikipediA](https://en.wikipedia.org/wiki/Shapiro%E2%80%93Wilk_test).\n",
    "\n",
    "Perform the [Shapiro Wilk test](https://docs.scipy.org/doc/scipy/reference/generated/scipy.stats.shapiro.html) from `scipy.stats` (module in the SciPy library that provides a comprehensive set of tools for statistical analysis and probability distributions).\n"
   ]
  },
  {
   "cell_type": "code",
   "execution_count": 14,
   "metadata": {},
   "outputs": [
    {
     "name": "stderr",
     "output_type": "stream",
     "text": [
      "c:\\Users\\uliya\\anaconda3\\Lib\\site-packages\\scipy\\stats\\_morestats.py:1882: UserWarning: p-value may not be accurate for N > 5000.\n",
      "  warnings.warn(\"p-value may not be accurate for N > 5000.\")\n"
     ]
    },
    {
     "data": {
      "text/plain": [
       "ShapiroResult(statistic=0.9999683499336243, pvalue=0.5386041402816772)"
      ]
     },
     "execution_count": 14,
     "metadata": {},
     "output_type": "execute_result"
    }
   ],
   "source": [
    "# Perform the Shapiro Wilk test.\n",
    "stats.shapiro(data)"
   ]
  },
  {
   "cell_type": "markdown",
   "metadata": {},
   "source": [
    "**Interpreting the results**\n",
    "\n",
    "We received a warning indicating that the Shapiro-Wilk test’s accuracy decreases with large sample sizes, particularly when the sample size exceeds 5,000 observations. In these cases, the p-value produced by the test may be unreliable.\n",
    "\n",
    "Despite this warning, the Shapiro-Wilk test statistic is close to 1, suggesting that the data is likely normally distributed. Additionally, the high p-value indicates no statistically significant deviation from normality. In other words, we fail to reject the null hypothesis that the sample comes from a normal distribution at common significance levels (e.g., 0.05)."
   ]
  },
  {
   "cell_type": "markdown",
   "metadata": {},
   "source": [
    "***\n",
    "\n",
    "Plot a histogram to show the shape of the data distribution and determine if it resembles the expected normal distribution (bell curve). Overlay the Probability Density Function (PDF) of a normal distribution with the same mean (10.0) and standard deviation (3.0) as the sample data."
   ]
  },
  {
   "cell_type": "code",
   "execution_count": 15,
   "metadata": {},
   "outputs": [
    {
     "data": {
      "image/png": "[encoded data removed]",
      "text/plain": [
       "<Figure size 1000x800 with 1 Axes>"
      ]
     },
     "metadata": {},
     "output_type": "display_data"
    }
   ],
   "source": [
    "# Create a blank plot.\n",
    "fig, ax = plt.subplots(figsize=(10, 8))\n",
    "\n",
    "# Plot the histogram.\n",
    "ax.hist(data,  bins=np.linspace(min(data), max(data), 100), density=True, color='purple', edgecolor='black',  alpha = 0.7)\n",
    "\n",
    "# Calculate and plot the PDF for the normal distribution with the same mean and std deviation\n",
    "x_values = np.linspace(min(data), max(data), 100)\n",
    "pdf_values = stats.norm.pdf(x_values, 10.0, 3.0)\n",
    "ax.plot(x_values, pdf_values, 'r', linewidth=3)\n",
    "\n",
    "ax.set_xlabel('Value')\n",
    "ax.set_ylabel('Density')\n",
    "ax.set_title('Histogram of sample data with normal distribution PDF');\n",
    "\n"
   ]
  },
  {
   "cell_type": "markdown",
   "metadata": {},
   "source": [
    "This visualization effectively shows how closely the sample data matches the expected normal distribution, allowing for an easy visual check of normality."
   ]
  },
  {
   "cell_type": "markdown",
   "metadata": {},
   "source": [
    "***\n",
    "***"
   ]
  },
  {
   "cell_type": "markdown",
   "metadata": {},
   "source": [
    "### **Task 3: t-Test Calculation**"
   ]
  },
  {
   "cell_type": "markdown",
   "metadata": {},
   "source": [
    "#### **Introduction**\n",
    "\n",
    "![](https://upload.wikimedia.org/wikipedia/commons/b/b8/Common_Test_Statistics_Chart.png)\n",
    "\n",
    "***Common Test Statistics Chart***"
   ]
  },
  {
   "cell_type": "markdown",
   "metadata": {},
   "source": [
    "The definition of **t-test** (**Student's t-test**) from [WikipediA](https://en.wikipedia.org/wiki/Student%27s_t-test): \n",
    "\n",
    "> Student's t-test is a statistical test used to test whether the difference between the response of two groups is statistically significant or not. It is any statistical hypothesis test in which the test statistic follows a Student's t-distribution under the null hypothesis. \n",
    "\n",
    "There are different types of t-tests depending on the nature of the data and the relationship between the groups being compared.\n",
    "\n",
    "1. **One-Sample t-Test**. Compares the mean of a single sample to a known value (usually the population mean).\n",
    "\n",
    "2. **Independent Two-Sample t-Test**. Compares the means of two independent groups.\n",
    "\n",
    "3. **Paired Sample t-Test (Dependent t-Test)**. Compares the means of two related groups (e.g., measurements before and after a treatment or intervention).\n"
   ]
  },
  {
   "cell_type": "markdown",
   "metadata": {},
   "source": [
    "***"
   ]
  },
  {
   "cell_type": "markdown",
   "metadata": {},
   "source": [
    "#### **\"Calculating the T-Statistic for Paired Sample Data\"**\n",
    "\n",
    "In this task we need to analyse data on patients' resting heart rates measured before and after a two-week exercise program. Our goal is to determine whether the program significantly affected heart rates by calculating the t-statistic for paired data.\n",
    "\n",
    "**Data**:\n",
    "\n",
    "| Patient ID | 0  | 1  | 2  | 3  | 4  | 5  | 6  | 7  | 8  | 9  |\n",
    "|------------|----|----|----|----|----|----|----|----|----|----|\n",
    "| **Before** | 63 | 68 | 70 | 64 | 74 | 67 | 70 | 57 | 66 | 65 |\n",
    "| **After**  | 64 | 64 | 68 | 64 | 73 | 70 | 72 | 54 | 61 | 63 |\n",
    "\n",
    "**Steps**:\n",
    "\n",
    "1. Define Hypotheses: Null Hypothesis and Alternative Hypothesis.\n",
    "2. Evaluate the data based on the assumptions of the Paired t-Test.\n",
    "3. Calculate the t-statistic manually and using scipy.stats.ttest_rel().\n",
    "4. Compare the results and conclude whether the change in heart rate is statistically significant."
   ]
  },
  {
   "cell_type": "markdown",
   "metadata": {},
   "source": [
    "***\n",
    "\n",
    "**Defining hypotheses**: \n",
    "\n",
    "**Null Hypothesis**: The mean resting heart rate of patients before and after the two-week exercise program is equal.\n",
    "\n",
    "**Alternative Hypothesis**: The mean resting heart rate of patients before and after the two-week exercise program is not equal."
   ]
  },
  {
   "cell_type": "markdown",
   "metadata": {},
   "source": [
    "***\n",
    "\n",
    "**Evaluating the data based on the assumptions of the Paired t-Test.**"
   ]
  },
  {
   "cell_type": "markdown",
   "metadata": {},
   "source": [
    "Before proceeding to solve the task, it is necessary to analyse the given sample to verify its compliance with the ***assumptions*** (resources: [Dependent T-Test using SPSS Statistics](https://statistics.laerd.com/spss-tutorials/dependent-t-test-using-spss-statistics.php), [Assumptions_Wikipedia](https://en.wikipedia.org/wiki/Student%27s_t-test#Assumptions)).\n",
    "\n",
    "**Assumptions of the Paired t-Test**\n",
    "\n",
    "To ensure the validity of a paired t-test, the following assumptions must be satisfied:\n",
    "\n",
    "1. Dependent Variable on a Continuous Scale: The variable being measured should be continuous (e.g., interval or ratio scale). Examples include exam scores, weights, or heart rates.\n",
    "\n",
    "2. Related Groups (Paired Observations): The two datasets must come from the same individuals or entities measured twice (e.g., \"before\" and \"after\" conditions).\n",
    "\n",
    "3. No Significant Outliers: There should be no extreme data points in the differences between the two paired groups, as they can distort the results.\n",
    "\n",
    "4. Normal Distribution of Differences: The differences between paired measurements should follow an approximately normal distribution. This assumption is somewhat robust, but significant deviations can affect the reliability of the test. Tests like the Shapiro-Wilk test can verify normality."
   ]
  },
  {
   "cell_type": "code",
   "execution_count": 16,
   "metadata": {},
   "outputs": [],
   "source": [
    "# Define the data.\n",
    "before = np.array([63, 68, 70, 64, 74, 67, 70, 57, 66, 65])\n",
    "after = np.array([64, 64, 68, 64, 73, 70, 72, 54, 61, 63])"
   ]
  },
  {
   "cell_type": "markdown",
   "metadata": {},
   "source": [
    "**Assumption Check**\n",
    "\n",
    "1. The dependent variable (heart rate) is measured on a continuous scale (in beats per minute). The assumption is satisfied.\n",
    "2. Each \"Before\" value directly corresponds to an \"After\" value for the same patient, making it paired data. The assumption is satisfied.\n",
    "3. Differences between \"Before\" and \"After\" heart rates:"
   ]
  },
  {
   "cell_type": "code",
   "execution_count": 17,
   "metadata": {},
   "outputs": [
    {
     "name": "stdout",
     "output_type": "stream",
     "text": [
      "[-1  4  2  0  1 -3 -2  3  5  2]\n"
     ]
    }
   ],
   "source": [
    "# Calculate the differences.\n",
    "differences = before - after\n",
    "print(differences)"
   ]
  },
  {
   "cell_type": "code",
   "execution_count": 18,
   "metadata": {},
   "outputs": [
    {
     "data": {
      "image/png": "[encoded data removed]",
      "text/plain": [
       "<Figure size 640x480 with 1 Axes>"
      ]
     },
     "metadata": {},
     "output_type": "display_data"
    }
   ],
   "source": [
    "# Box plot.\n",
    "sns.boxplot(data=[before,after]);"
   ]
  },
  {
   "cell_type": "code",
   "execution_count": 19,
   "metadata": {},
   "outputs": [
    {
     "data": {
      "image/png": "[encoded data removed]",
      "text/plain": [
       "<Figure size 640x480 with 1 Axes>"
      ]
     },
     "metadata": {},
     "output_type": "display_data"
    }
   ],
   "source": [
    "# Create a strip plot.\n",
    "sns.stripplot(data=[before,after]);"
   ]
  },
  {
   "cell_type": "markdown",
   "metadata": {},
   "source": [
    "Conclusion: No significant outliers detected."
   ]
  },
  {
   "cell_type": "markdown",
   "metadata": {},
   "source": [
    "4. Using the differences calculated, we can check for normality using the Shapiro-Wilk test."
   ]
  },
  {
   "cell_type": "code",
   "execution_count": 20,
   "metadata": {},
   "outputs": [
    {
     "data": {
      "text/plain": [
       "ShapiroResult(statistic=0.9752339720726013, pvalue=0.9346861243247986)"
      ]
     },
     "execution_count": 20,
     "metadata": {},
     "output_type": "execute_result"
    }
   ],
   "source": [
    "# Perform the Shapiro Wilk test.\n",
    "stats.shapiro(differences)"
   ]
  },
  {
   "cell_type": "markdown",
   "metadata": {},
   "source": [
    "Test Statistic сlose to 1, suggesting the data aligns reasonably well with normal distribution. Since p>0.05, we fail to reject the null hypothesis, meaning there is no significant evidence that the differences deviate from normality."
   ]
  },
  {
   "cell_type": "markdown",
   "metadata": {},
   "source": [
    "***\n",
    "\n",
    "**Calculating the t-statistic manually and using scipy.stats.ttest_rel().**"
   ]
  },
  {
   "cell_type": "markdown",
   "metadata": {},
   "source": [
    "From the Wikipedia resource: [Dependent t-test for paired samples](https://en.wikipedia.org/wiki/Student%27s_t-test#Dependent_t-test_for_paired_samples) the formula for the Paired t-Test is as follows:\n",
    "\n",
    "$ t = \\frac{\\bar{X}_D - \\mu_0}{\\frac{s_D}{\\sqrt{n}}} $\n",
    "\n",
    "Where:\n",
    "- $ \\bar{X}_D $: the mean of the differences between paired observations (e.g., results before and after).\n",
    "- $ s_D $: the standard deviation of the differences.\n",
    "- $ n $: the number of paired observations.\n",
    "- $ \\mu_0 $: the hypothesized difference (usually \\(0\\) when testing for no change).\n",
    "\n"
   ]
  },
  {
   "cell_type": "markdown",
   "metadata": {},
   "source": [
    "So, let's implement a calculation according to this formula using Python (the differences have already been calculated)."
   ]
  },
  {
   "cell_type": "code",
   "execution_count": 21,
   "metadata": {},
   "outputs": [
    {
     "data": {
      "text/plain": [
       "1.3372274824806283"
      ]
     },
     "execution_count": 21,
     "metadata": {},
     "output_type": "execute_result"
    }
   ],
   "source": [
    "# Calculate mean difference (X̄_D).\n",
    "X_D_bar = np.mean(differences)\n",
    "\n",
    "# Calculate standard deviation of differences (s_D).\n",
    "s_D = np.std(differences, ddof=1)\n",
    "\n",
    "# Number of pairs (n).\n",
    "n = len(differences)\n",
    "\n",
    "# Hypothesized difference (μ_0).\n",
    "mu_0 = 0\n",
    "\n",
    "# Calculate t-statistic.\n",
    "t_statistic = (X_D_bar - mu_0) / (s_D / np.sqrt(n))\n",
    "\n",
    "# Show.\n",
    "t_statistic"
   ]
  },
  {
   "cell_type": "markdown",
   "metadata": {},
   "source": [
    "Now, let's Implement a calculation of the t-statistic using [scipy.stats.ttest_rel](https://docs.scipy.org/doc/scipy/reference/generated/scipy.stats.ttest_rel.html#ttest-rel) from the `scipy.stats` library.  "
   ]
  },
  {
   "cell_type": "code",
   "execution_count": 22,
   "metadata": {},
   "outputs": [
    {
     "data": {
      "text/plain": [
       "TtestResult(statistic=1.337227482480628, pvalue=0.21396011317404623, df=9)"
      ]
     },
     "execution_count": 22,
     "metadata": {},
     "output_type": "execute_result"
    }
   ],
   "source": [
    "# Paired samples t-test.\n",
    "stats.ttest_rel(before, after)"
   ]
  },
  {
   "cell_type": "markdown",
   "metadata": {},
   "source": [
    "***\n",
    "\n",
    "**Conclusions**\n",
    "\n",
    "The manually calculated t-statistic matches the result obtained using `scipy.stats.ttest_rel`, confirming the correctness of both approaches. \n",
    "\n",
    "The results of the paired t-test are as follows:\n",
    "\n",
    " - t-statistic: 1.3372\n",
    " - p-value: 0.2140\n",
    " - Degrees of freedom (df): 9.\n",
    "\n",
    " The t-statistic of 1.3372 is not unusually large because of the small sample size (10 paired observations, resulting in 9 degrees of freedom). With a small sample, it's harder to achieve a large t-statistic, as the variability in the data (standard deviation) affects the calculation. The result indicates a modest difference between the \"before\" and \"after\" heart rates, but the p-value of 0.2140 suggests the difference is not statistically significant."
   ]
  },
  {
   "cell_type": "markdown",
   "metadata": {},
   "source": [
    "***\n",
    "***"
   ]
  },
  {
   "cell_type": "markdown",
   "metadata": {},
   "source": [
    "### **Task 4: ANOVA**"
   ]
  },
  {
   "cell_type": "markdown",
   "metadata": {},
   "source": [
    "#### **Introduction**\n",
    "\n",
    "![](https://upload.wikimedia.org/wikipedia/commons/thumb/7/7b/F-test_plot.svg/540px-F-test_plot.svg.png)\n",
    "\n",
    "***F-test plot***\n"
   ]
  },
  {
   "cell_type": "markdown",
   "metadata": {},
   "source": [
    "The definition of **F-test** from [WikipediA](https://en.wikipedia.org/wiki/F-test): \n",
    "\n",
    "> An **F-test** is any statistical test used to compare the variances of two samples or the ratio of variances between multiple samples. \n",
    "\n",
    "[**Analysis of variance (ANOVA)**](https://en.wikipedia.org/wiki/Analysis_of_variance) is a statistical method used to compare the means of multiple groups to determine if there are statistically significant differences among them.\n",
    "\n",
    "**Objective**: Test the null hypothesis ($H_0$), which states that all groups have the same mean.\n",
    "\n",
    "**Core Principle**: ANOVA compares the variation within groups to the variation between groups.\n",
    "If the variation between groups is significantly larger than the variation within groups, the null hypothesis is rejected.\n",
    "\n",
    "**Types of ANOVA**:\n",
    " - **One-Way ANOVA**: Tests the effect of a single independent variable (factor) on a dependent variable.\n",
    " - **Two-Way ANOVA** (or more): Analyses the effects of two or more factors simultaneously.\n",
    "\n",
    "**ANOVA Output**:\n",
    " - **F-statistic**: The ratio of between-group variance to within-group variance.\n",
    " - **p-value**: If $𝑝 < 0.05$, the null hypothesis is rejected, indicating that at least one group's mean is different."
   ]
  },
  {
   "cell_type": "markdown",
   "metadata": {},
   "source": [
    "***"
   ]
  },
  {
   "cell_type": "markdown",
   "metadata": {},
   "source": [
    "#### **\"Estimating the Probability of Type II Errors with ANOVA\"**\n",
    "\n",
    "In this task we need to estimate the probability of committing a Type II error under specific conditions using simulation and statistical testing. \n",
    "\n",
    "**The steps**:\n",
    "\n",
    "1. Create a variable no_type_ii and initialize it to 0.\n",
    "\n",
    "2. Perform the following experiment 10,000 times:\n",
    "\n",
    "3. Generate three independent samples of size 100 each using [numpy.random.normal](https://numpy.org/devdocs/reference/random/generated/numpy.random.normal.html). Assign:\n",
    " - Mean = 4.9 for the first sample,\n",
    " - Mean = 5.0 for the second sample,\n",
    " - Mean = 5.1 for the third sample.\n",
    " - Use a standard deviation of 0.1 for all samples.\n",
    "\n",
    "4. Conduct a one-way ANOVA test on the three samples and add 1 to no_type_ii whenever a type II error occurs.\n",
    "\n",
    "5. Summarize and explain the results (the probability of Type II errors under these conditions)."
   ]
  },
  {
   "cell_type": "markdown",
   "metadata": {},
   "source": [
    "***\n",
    "\n",
    "**Defining Hypotheses**\n",
    "\n",
    "**Null Hypothesis**: The mean values of the three samples are equal.  \n",
    "\n",
    "\n",
    "**Alternative Hypothesis**: At least one of the mean values of the three samples is different.  \n",
    "\n",
    "***"
   ]
  },
  {
   "cell_type": "markdown",
   "metadata": {},
   "source": [
    "**Evaluating the data to ensure it meets the assumptions for one-way ANOVA**"
   ]
  },
  {
   "cell_type": "code",
   "execution_count": 23,
   "metadata": {},
   "outputs": [],
   "source": [
    "# Set the variable and the counter\n",
    "no_type_ii = 0\n",
    "num_times = 10000"
   ]
  },
  {
   "cell_type": "code",
   "execution_count": 24,
   "metadata": {},
   "outputs": [],
   "source": [
    "# Generate the samples\n",
    "sample1 = np.random.normal(loc=4.9, scale=0.1, size=100)\n",
    "sample2 = np.random.normal(loc=5.0, scale=0.1, size=100)\n",
    "sample3 = np.random.normal(loc=5.1, scale=0.1, size=100)"
   ]
  },
  {
   "cell_type": "code",
   "execution_count": 25,
   "metadata": {},
   "outputs": [
    {
     "name": "stdout",
     "output_type": "stream",
     "text": [
      "Sample1: [4.78539204 4.95149979 4.90794    4.98171509 4.98561112 4.92531257\n",
      " 4.93619151 4.887882   4.80625504 4.82877276 5.02603306 4.81660313\n",
      " 4.91416577 4.84193304 5.06786778 4.95543772 4.77590967 5.10185981\n",
      " 4.77921019 5.02873731]\n",
      "Sample2: [5.10888307 5.09865743 4.88754913 5.09820521 5.0745468  5.02205315\n",
      " 5.11111664 5.08509152 4.91116317 5.0146469  4.94913881 5.00897179\n",
      " 5.11336218 4.94885822 4.98797145 5.15005661 5.12757435 4.91014444\n",
      " 4.9904293  4.93529206]\n",
      "Sample3: [5.06805251 5.19168522 5.06043731 4.97779842 5.00646065 5.00429978\n",
      " 5.10670995 5.1511076  5.25294671 5.15972386 5.1091079  4.95102978\n",
      " 5.25904362 5.0911207  5.04153397 5.1183577  5.04028693 5.07759508\n",
      " 5.00878376 5.18548622]\n"
     ]
    }
   ],
   "source": [
    "# Show. \n",
    "print ( \"Sample1:\", sample1[:20])\n",
    "print ( \"Sample2:\", sample2[:20])\n",
    "print ( \"Sample3:\", sample3[:20])"
   ]
  },
  {
   "cell_type": "markdown",
   "metadata": {},
   "source": [
    "Before proceeding to solve the task, it is necessary to analyse the given sample to verify its compliance with the ***assumptions*** (resources: [One-way ANOVA in SPSS Statistics](https://statistics.laerd.com/spss-tutorials/one-way-anova-using-spss-statistics.php), [Assumptions_Wikipedia](https://en.wikipedia.org/wiki/Analysis_of_variance#Assumptions)).\n",
    "\n",
    "The following assumptions must be satisfied:\n",
    "\n",
    "1. **Dependent Variable is Continuous.** The dependent variable should be measured on an interval or ratio scale (e.g., continuous data). \n",
    "\n",
    "For our task, the dependent variable is the sample data (e.g., values generated with means 4.9, 5.0, and 5.1). These are continuous and meet this assumption.\n",
    "\n",
    "2. **Independent Variable Consists of Categorical Groups.** The independent variable should have two or more categorical, independent groups.\n",
    "\n",
    "In our case, the groups correspond to the three datasets. These groups are independent, satisfying this assumption.\n",
    "\n",
    "3. **Independence of Observations.**  Each observation in the dataset should be independent. This means:\n",
    "   - Participants or data points in one group are not related to those in another group.\n",
    "   - There is no overlap between the groups.  \n",
    "\n",
    "Our simulated data has no relationship between observations in different samples, fulfilling this assumption.\n",
    "\n",
    "4. **No Significant Outliers.** Outliers are individual data points that deviate significantly from the rest of the data. They can distort results, reducing validity. \n",
    "\n",
    "In our case, the samples are generated from normal distributions with small standard deviations ($\\sigma = 0.1$), so outliers are unlikely. However, detecting and handling outliers is critical for real-world datasets.\n",
    "\n",
    "5. **Normal Distribution of the Dependent Variable.**  The dependent variable should be approximately normally distributed for each group. While ANOVA is robust to minor deviations from normality, severe violations can affect results (Suggested using tests like [Shapiro-Wilk](https://en.wikipedia.org/wiki/Shapiro%E2%80%93Wilk_test) or [Q-Q plots](https://en.wikipedia.org/wiki/Q%E2%80%93Q_plot) to check normality).  \n",
    "\n",
    "Since our data is generated from normal distributions, this assumption is inherently satisfied.\n",
    "\n",
    "6. **Homogeneity of Variances.**  The variances of the dependent variable should be equal across groups. This can be tested using:\n",
    "   - [Levene's Test](https://en.wikipedia.org/wiki/Levene%27s_test): Assesses equality of variances.\n",
    "   - [Welch’s ANOVA](https://en.wikipedia.org/wiki/Welch%27s_t-test): Used if this assumption is violated.  \n",
    "\n",
    "In our simulation, the groups have the same standard deviation ($\\sigma = 0.1$), so this assumption holds true.\n",
    "\n",
    "Summary, these assumptions confirm that one-way ANOVA is an appropriate method for analysing the simulated data.\n"
   ]
  },
  {
   "cell_type": "markdown",
   "metadata": {},
   "source": [
    "***\n",
    "\n",
    "Let's plot the distribution of our data to make it clearer."
   ]
  },
  {
   "cell_type": "code",
   "execution_count": 26,
   "metadata": {},
   "outputs": [
    {
     "data": {
      "image/png": "[encoded data removed]",
      "text/plain": [
       "<Figure size 1000x500 with 1 Axes>"
      ]
     },
     "metadata": {},
     "output_type": "display_data"
    }
   ],
   "source": [
    "# Create histograms.\n",
    "fig, ax = plt.subplots(figsize=(10, 5))\n",
    "\n",
    "# Histogram of the first sample.\n",
    "ax.hist(sample1, bins=10, alpha=0.5, label='Sample 1', edgecolor='black', color='blue')\n",
    "\n",
    "# Histogram of the second sample.\n",
    "ax.hist(sample2, bins=10, alpha=0.5, label='Sample 2', edgecolor='black', color='red')\n",
    "\n",
    "# Histogram of the third sample.\n",
    "ax.hist(sample3, bins=10, alpha=0.5, label='Sample 3', edgecolor='black', color='purple')\n",
    "\n",
    "# Add a legend.\n",
    "ax.legend();"
   ]
  },
  {
   "cell_type": "markdown",
   "metadata": {},
   "source": [
    "***\n",
    "\n",
    "#### **What is a Type II Error?**\n",
    "\n",
    "Next step is to define the Types of Error.  \n",
    "\n",
    "According to [Wikipedia's description](https://en.wikipedia.org/wiki/Type_I_and_type_II_errors#Table_of_error_types) of the types of errors: \n",
    " - The **Type II error** occurs when the null hypothesis $H_0$ is **false**, but the test fails to reject it. This means the test misses detecting an effect or difference that actually exists.\n",
    "\n",
    "- **Probability of Type II error**: Represented by $\\beta$."
   ]
  },
  {
   "cell_type": "markdown",
   "metadata": {},
   "source": [
    "| Null Hypothesis (H₀)   | True                               | False                             |\n",
    "|-------------------------|-----------------------------------|-----------------------------------|\n",
    "| **Decision about H₀**   |                                   |                                   | \n",
    "| **Not Reject**          | Correct inference (true negative) | Type II error (false negative)    |\n",
    "|                         | (probability = 1 - α)             | (probability = β)                 |\n",
    "| **Reject**              | Type I error (false positive)     | Correct inference (true positive) |\n",
    "|                         | (probability = α)                 | (probability = 1 - β)             |\n"
   ]
  },
  {
   "cell_type": "code",
   "execution_count": 27,
   "metadata": {},
   "outputs": [],
   "source": [
    "\n",
    "def simulate_anova(alpha=0.05):\n",
    "    \"\"\"\n",
    "    Simulates one-way ANOVA test and checks if the null hypothesis is rejected.\n",
    "    \n",
    "    Parameters:\n",
    "        alpha (float): Significance level for the hypothesis test.\n",
    "\n",
    "    Returns:\n",
    "        bool: True if null hypothesis is rejected, False otherwise.\n",
    "    \"\"\"\n",
    " \n",
    "    # Perform one-way ANOVA\n",
    "    _, p_value = f_oneway(sample1, sample2, sample3)\n",
    "    \n",
    "    # Return whether we fail to reject the null hypothesis (Type II error)\n",
    "    if p_value >= alpha:\n",
    "        return True\n",
    "    else:\n",
    "        return False"
   ]
  },
  {
   "cell_type": "code",
   "execution_count": 28,
   "metadata": {},
   "outputs": [
    {
     "name": "stdout",
     "output_type": "stream",
     "text": [
      "Number of Type II errors: 0\n",
      "Probability of Type II error: 0.0000\n"
     ]
    }
   ],
   "source": [
    "\n",
    "# Run multiple simulations\n",
    "for _ in range(num_times):\n",
    "    if simulate_anova():\n",
    "        no_type_ii += 1\n",
    "\n",
    "# Calculate and display the probability of Type II error\n",
    "type_ii_error_probability = no_type_ii / num_times\n",
    "print(f\"Number of Type II errors: {no_type_ii}\")\n",
    "print(f\"Probability of Type II error: {type_ii_error_probability:.4f}\")\n"
   ]
  },
  {
   "cell_type": "markdown",
   "metadata": {},
   "source": [
    "*** \n",
    "\n",
    "#### **Conclusions**\n",
    "\n",
    "A Type II error is dangerous as it can lead to incorrect conclusions, resulting in an underestimation of a real effect. A Type II error occurs when the test fails to reject the null hypothesis ($H_0$) even though it is false, meaning it misses an existing effect. The probability of such an error is denoted as $𝛽$, and it is related to the [test's power](https://en.wikipedia.org/wiki/Power_(statistics)#Description) $(1−𝛽)$.\n",
    "\n",
    "Test's Power refers to the probability that a statistical test will correctly reject a false null hypothesis ($H_0$). In other words, it measures the test's ability to detect an effect or difference when one actually exists. A high-powered test reduces the likelihood of missing true effects.  \n",
    "\n",
    "In our specific simulation, we observed zero Type II errors, meaning the ANOVA test successfully rejected the null hypothesis when it was false, indicating good test power. However, we need to ensure that this outcome is consistent across different scenarios and configurations, including varying sample sizes or different effect sizes.\n",
    "\n",
    "If Type II errors were frequent, this would signal that the test's power is insufficient and adjustments (e.g., increasing the sample size or revising the design) might be needed to improve the reliability of the results.\n",
    "\n",
    "In summary, based on our results, we can conclude that the test had sufficient power to detect differences when they existed, with a low incidence of Type II errors, demonstrating the effectiveness of our hypothesis test."
   ]
  },
  {
   "cell_type": "markdown",
   "metadata": {},
   "source": [
    "***\n",
    "\n",
    "END"
   ]
  }
 ],
 "metadata": {
  "kernelspec": {
   "display_name": "base",
   "language": "python",
   "name": "python3"
  },
  "language_info": {
   "codemirror_mode": {
    "name": "ipython",
    "version": 3
   },
   "file_extension": ".py",
   "mimetype": "text/x-python",
   "name": "python",
   "nbconvert_exporter": "python",
   "pygments_lexer": "ipython3",
   "version": "3.11.5"
  }
 },
 "nbformat": 4,
 "nbformat_minor": 2
}
